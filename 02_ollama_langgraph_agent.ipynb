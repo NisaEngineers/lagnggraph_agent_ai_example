{
 "cells": [
  {
   "cell_type": "markdown",
   "metadata": {
    "id": "RA5ubjsj61I_"
   },
   "source": [
    "[![Open In Colab](https://colab.research.google.com/assets/colab-badge.svg)](https://colab.research.google.com/github/pinecone-io/examples/blob/master/learn/generation/langchain/langgraph/02-ollama-langgraph-agent/02-ollama-langgraph-agent.ipynb) [![Open nbviewer](https://raw.githubusercontent.com/pinecone-io/examples/master/assets/nbviewer-shield.svg)](https://nbviewer.org/github/pinecone-io/examples/blob/master/learn/generation/langchain/langgraph/02-ollama-langgraph-agent/02-ollama-langgraph-agent.ipynb)"
   ]
  },
  {
   "cell_type": "markdown",
   "metadata": {
    "id": "ZAVuusUn61JB"
   },
   "source": [
    "# Ollama LangGraph Agent"
   ]
  },
  {
   "cell_type": "markdown",
   "metadata": {
    "id": "0-HJOTYm61JB"
   },
   "source": [
    "LangGraph is one of the most powerful frameworks for build AI agents, and Ollama one of the most popular frameworks for running local LLMs. Bringing both together allows us to run agentic workflows at little-to-no cost. In this example we will see how.\n",
    "\n",
    "We recommend running this locally (ideally on Apple silicon). For environment setup instructions you can refer to the README found in this directory.\n",
    "\n",
    "If using Colab, you should run the following installs (no need to run if installing locally with `poetry`):\n",
    "\n",
    "```\n",
    "!pip install -qU \\\n",
    "    langchain==0.2.12 \\\n",
    "    langchain-core==0.2.29 \\\n",
    "    langgraph==0.2.3 \\\n",
    "    langchain-ollama==0.1.1 \\\n",
    "    semantic-router==0.0.61 \\\n",
    "    pyppeteer==2.0.0 \\\n",
    "    nest-asyncio==1.6.0 \\\n",
    "    praw==7.7.1\n",
    "```"
   ]
  },
  {
   "cell_type": "code",
   "execution_count": 15,
   "metadata": {
    "id": "MAEh70c364kg"
   },
   "outputs": [],
   "source": [
    "!pip install -qU \\\n",
    "    langchain==0.2.12 \\\n",
    "    langchain-core==0.2.29 \\\n",
    "    langgraph==0.2.3 \\\n",
    "    langchain-ollama==0.1.1 \\\n",
    "    semantic-router==0.0.61 \\\n",
    "    pyppeteer==2.0.0 \\\n",
    "    nest-asyncio==1.6.0 \\\n",
    "    praw==7.7.1"
   ]
  },
  {
   "cell_type": "code",
   "execution_count": 2,
   "metadata": {
    "colab": {
     "base_uri": "https://localhost:8080/"
    },
    "id": "vwJ9Ocw79JUK",
    "outputId": "c041fa79-a151-43a3-b753-3718f614b3f2"
   },
   "outputs": [
    {
     "name": "stdout",
     "output_type": "stream",
     "text": [
      "Requirement already satisfied: cohere==5.9.2 in /usr/local/lib/python3.11/dist-packages (5.9.2)\n",
      "Requirement already satisfied: boto3<2.0.0,>=1.34.0 in /usr/local/lib/python3.11/dist-packages (from cohere==5.9.2) (1.38.41)\n",
      "Requirement already satisfied: fastavro<2.0.0,>=1.9.4 in /usr/local/lib/python3.11/dist-packages (from cohere==5.9.2) (1.11.1)\n",
      "Requirement already satisfied: httpx>=0.21.2 in /usr/local/lib/python3.11/dist-packages (from cohere==5.9.2) (0.28.1)\n",
      "Requirement already satisfied: httpx-sse==0.4.0 in /usr/local/lib/python3.11/dist-packages (from cohere==5.9.2) (0.4.0)\n",
      "Requirement already satisfied: parameterized<0.10.0,>=0.9.0 in /usr/local/lib/python3.11/dist-packages (from cohere==5.9.2) (0.9.0)\n",
      "Requirement already satisfied: pydantic>=1.9.2 in /usr/local/lib/python3.11/dist-packages (from cohere==5.9.2) (2.11.7)\n",
      "Requirement already satisfied: pydantic-core<3.0.0,>=2.18.2 in /usr/local/lib/python3.11/dist-packages (from cohere==5.9.2) (2.33.2)\n",
      "Requirement already satisfied: requests<3.0.0,>=2.0.0 in /usr/local/lib/python3.11/dist-packages (from cohere==5.9.2) (2.32.3)\n",
      "Requirement already satisfied: tokenizers<1,>=0.15 in /usr/local/lib/python3.11/dist-packages (from cohere==5.9.2) (0.21.1)\n",
      "Requirement already satisfied: types-requests<3.0.0,>=2.0.0 in /usr/local/lib/python3.11/dist-packages (from cohere==5.9.2) (2.31.0.6)\n",
      "Requirement already satisfied: typing_extensions>=4.0.0 in /usr/local/lib/python3.11/dist-packages (from cohere==5.9.2) (4.14.0)\n",
      "Requirement already satisfied: botocore<1.39.0,>=1.38.41 in /usr/local/lib/python3.11/dist-packages (from boto3<2.0.0,>=1.34.0->cohere==5.9.2) (1.38.41)\n",
      "Requirement already satisfied: jmespath<2.0.0,>=0.7.1 in /usr/local/lib/python3.11/dist-packages (from boto3<2.0.0,>=1.34.0->cohere==5.9.2) (1.0.1)\n",
      "Requirement already satisfied: s3transfer<0.14.0,>=0.13.0 in /usr/local/lib/python3.11/dist-packages (from boto3<2.0.0,>=1.34.0->cohere==5.9.2) (0.13.0)\n",
      "Requirement already satisfied: anyio in /usr/local/lib/python3.11/dist-packages (from httpx>=0.21.2->cohere==5.9.2) (4.9.0)\n",
      "Requirement already satisfied: certifi in /usr/local/lib/python3.11/dist-packages (from httpx>=0.21.2->cohere==5.9.2) (2025.6.15)\n",
      "Requirement already satisfied: httpcore==1.* in /usr/local/lib/python3.11/dist-packages (from httpx>=0.21.2->cohere==5.9.2) (1.0.9)\n",
      "Requirement already satisfied: idna in /usr/local/lib/python3.11/dist-packages (from httpx>=0.21.2->cohere==5.9.2) (3.10)\n",
      "Requirement already satisfied: h11>=0.16 in /usr/local/lib/python3.11/dist-packages (from httpcore==1.*->httpx>=0.21.2->cohere==5.9.2) (0.16.0)\n",
      "Requirement already satisfied: annotated-types>=0.6.0 in /usr/local/lib/python3.11/dist-packages (from pydantic>=1.9.2->cohere==5.9.2) (0.7.0)\n",
      "Requirement already satisfied: typing-inspection>=0.4.0 in /usr/local/lib/python3.11/dist-packages (from pydantic>=1.9.2->cohere==5.9.2) (0.4.1)\n",
      "Requirement already satisfied: charset-normalizer<4,>=2 in /usr/local/lib/python3.11/dist-packages (from requests<3.0.0,>=2.0.0->cohere==5.9.2) (3.4.2)\n",
      "Requirement already satisfied: urllib3<3,>=1.21.1 in /usr/local/lib/python3.11/dist-packages (from requests<3.0.0,>=2.0.0->cohere==5.9.2) (1.26.20)\n",
      "Requirement already satisfied: huggingface-hub<1.0,>=0.16.4 in /usr/local/lib/python3.11/dist-packages (from tokenizers<1,>=0.15->cohere==5.9.2) (0.33.0)\n",
      "Requirement already satisfied: types-urllib3 in /usr/local/lib/python3.11/dist-packages (from types-requests<3.0.0,>=2.0.0->cohere==5.9.2) (1.26.25.14)\n",
      "Requirement already satisfied: python-dateutil<3.0.0,>=2.1 in /usr/local/lib/python3.11/dist-packages (from botocore<1.39.0,>=1.38.41->boto3<2.0.0,>=1.34.0->cohere==5.9.2) (2.9.0.post0)\n",
      "Requirement already satisfied: filelock in /usr/local/lib/python3.11/dist-packages (from huggingface-hub<1.0,>=0.16.4->tokenizers<1,>=0.15->cohere==5.9.2) (3.18.0)\n",
      "Requirement already satisfied: fsspec>=2023.5.0 in /usr/local/lib/python3.11/dist-packages (from huggingface-hub<1.0,>=0.16.4->tokenizers<1,>=0.15->cohere==5.9.2) (2025.3.2)\n",
      "Requirement already satisfied: packaging>=20.9 in /usr/local/lib/python3.11/dist-packages (from huggingface-hub<1.0,>=0.16.4->tokenizers<1,>=0.15->cohere==5.9.2) (24.2)\n",
      "Requirement already satisfied: pyyaml>=5.1 in /usr/local/lib/python3.11/dist-packages (from huggingface-hub<1.0,>=0.16.4->tokenizers<1,>=0.15->cohere==5.9.2) (6.0.2)\n",
      "Requirement already satisfied: tqdm>=4.42.1 in /usr/local/lib/python3.11/dist-packages (from huggingface-hub<1.0,>=0.16.4->tokenizers<1,>=0.15->cohere==5.9.2) (4.67.1)\n",
      "Requirement already satisfied: hf-xet<2.0.0,>=1.1.2 in /usr/local/lib/python3.11/dist-packages (from huggingface-hub<1.0,>=0.16.4->tokenizers<1,>=0.15->cohere==5.9.2) (1.1.3)\n",
      "Requirement already satisfied: sniffio>=1.1 in /usr/local/lib/python3.11/dist-packages (from anyio->httpx>=0.21.2->cohere==5.9.2) (1.3.1)\n",
      "Requirement already satisfied: six>=1.5 in /usr/local/lib/python3.11/dist-packages (from python-dateutil<3.0.0,>=2.1->botocore<1.39.0,>=1.38.41->boto3<2.0.0,>=1.34.0->cohere==5.9.2) (1.17.0)\n"
     ]
    }
   ],
   "source": [
    "!pip install cohere==5.9.2"
   ]
  },
  {
   "cell_type": "markdown",
   "metadata": {
    "id": "kffRETLA61JC"
   },
   "source": [
    "## Reddit Search Tool"
   ]
  },
  {
   "cell_type": "markdown",
   "metadata": {
    "id": "A1Tqi2ON61JC"
   },
   "source": [
    "We first need to sign up for the Reddit API, you can refer to the first few minutes of [this tutorial](https://www.youtube.com/watch?v=FdjVoOf9HN4) if you want a full walkthrough, but tldr;\n",
    "\n",
    "1. Go to [App Preferences](https://www.reddit.com/prefs/apps) and click **_create another app..._** at the bottom.\n",
    "2. Fill out required details, make sure to select *script* for the application type then click **_create app_**.\n",
    "3. Fill out the next cell with `client_id` (your *personal use script*) and `client_secret` (your *secret* key)."
   ]
  },
  {
   "cell_type": "code",
   "execution_count": 1,
   "metadata": {
    "colab": {
     "base_uri": "https://localhost:8080/"
    },
    "id": "nIMwy2Al61JC",
    "outputId": "c55f1542-8224-4b67-dffa-45f1ee457499"
   },
   "outputs": [
    {
     "name": "stderr",
     "output_type": "stream",
     "text": [
      "Version 7.7.1 of praw is outdated. Version 7.8.1 was released Friday October 25, 2024.\n"
     ]
    }
   ],
   "source": [
    "import praw\n",
    "\n",
    "reddit = praw.Reddit(\n",
    "    client_id=\"bRA4GGcTvRZe42iDhjYVqA\",  # personal use script\n",
    "    client_secret=\"UvL9aAlBTbHv436mOHi0VT0-9Mw1BQ\",  # secret\n",
    "    user_agent=\"forAPI\"  # name of application\n",
    ")"
   ]
  },
  {
   "cell_type": "markdown",
   "metadata": {
    "id": "np-VcLhS61JD"
   },
   "source": [
    "We'll be pulling in submission threads from Reddit that include user's restaurant recommendations (or just other info we search for). From the submission threads we need:\n",
    "\n",
    "* Submission title\n",
    "* Submission first text / description\n",
    "* A few of the top voted comments\n",
    "\n",
    "To organize this information we can create a pydantic class to structure the needed data:"
   ]
  },
  {
   "cell_type": "code",
   "execution_count": 2,
   "metadata": {
    "id": "h2EKEj6861JD"
   },
   "outputs": [],
   "source": [
    "from pydantic import BaseModel\n",
    "\n",
    "class Rec(BaseModel):\n",
    "    title: str\n",
    "    description: str\n",
    "    comments: list[str]\n",
    "\n",
    "    def __str__(self):\n",
    "        \"\"\"LLM-friendly string representation of the recommendation(s).\"\"\"\n",
    "        return f\"Title: {self.title}\\nDescription: {self.description}\\nComments:\\n\" + \"\\n\".join(self.comments)"
   ]
  },
  {
   "cell_type": "markdown",
   "metadata": {
    "id": "EtdSvk5g61JE"
   },
   "source": [
    "Now we setup the retrieval logic for an example query `\"best pizza in rome\"`:"
   ]
  },
  {
   "cell_type": "code",
   "execution_count": 3,
   "metadata": {
    "colab": {
     "base_uri": "https://localhost:8080/"
    },
    "id": "yAy2xr8361JE",
    "outputId": "bf0c8b06-01ff-4583-9339-1ad25ac4b843"
   },
   "outputs": [
    {
     "name": "stdout",
     "output_type": "stream",
     "text": [
      "The pizza chef who made this pizza won best pizza in the world at the World Pizza Awards in Rome\n",
      "Since pizza is an American food, I'm willing to bet the best pizza is in America.\n",
      "In honor of the new Pope being from Chicago, what is the best Chicago-Style Deep Dish Pizza in Milwaukee?\n"
     ]
    }
   ],
   "source": [
    "from praw.models import Comment\n",
    "\n",
    "# search across all subreddits for pizza recommendations\n",
    "results = reddit.subreddit(\"all\").search(\"best pizza in rome\")\n",
    "recs = []\n",
    "for submission in results:\n",
    "    title = submission.title\n",
    "    description = submission.selftext\n",
    "    # we only get comments with 20 or more upvotes\n",
    "    comments = []\n",
    "    for comment in submission.comments.list():\n",
    "        if isinstance(comment, Comment) and comment.ups >= 20:\n",
    "            author = comment.author.name if comment.author else \"unknown\"\n",
    "            comments.append(f\"{author} (upvotes: {comment.ups}): {comment.body}\")\n",
    "    # and of these, we only need 3\n",
    "    comments = comments[:3]\n",
    "    # if there are enough comments (ie 3), we add the recommendation to our list\n",
    "    if len(comments) == 3:\n",
    "        print(title)\n",
    "        recs.append(Rec(title=title, description=description, comments=comments))\n",
    "    if len(recs) == 3:\n",
    "        # stop after getting 3 recommendations\n",
    "        break"
   ]
  },
  {
   "cell_type": "markdown",
   "metadata": {
    "id": "0mkA4oZ161JF"
   },
   "source": [
    "Let's see what we have:"
   ]
  },
  {
   "cell_type": "code",
   "execution_count": 4,
   "metadata": {
    "colab": {
     "base_uri": "https://localhost:8080/"
    },
    "id": "MwgnIsOJ61JF",
    "outputId": "62d7f17b-31e3-4e4e-8f45-3fb448140df0"
   },
   "outputs": [
    {
     "name": "stdout",
     "output_type": "stream",
     "text": [
      "Title: The pizza chef who made this pizza won best pizza in the world at the World Pizza Awards in Rome\n",
      "Description: \n",
      "Comments:\n",
      "bronwynnin (upvotes: 889): What’re your thoughts on it after eating? Doesn’t look the prettiest but I can imagine it tastes pretty good.\n",
      "skepticalbob (upvotes: 209): I’m guessing this is Tony Gemignani‘a [Tony’s Pizzaria Neapolitano in San Fransisco](https://yelp.to/g3A23KA0rh). Tony was the first non-Italian to win the Neapolitqn contest jn Italy. He beat out over 2000 entrants. Tony’s makes different styles of pizza that most on aren’t Neapolitan style. I’m betting they were out of Neapolitan and he threw a basil leaf on his New Yorker. This pizza was made with an oven designed for maximum volume and isn’t some handcrafted wonder. The bread and ingredient quality are probably pretty good though.\n",
      "\n",
      "Am I right?\n",
      "\n",
      "Edit: Tony also wrote The Pizza Bible, which is a solid book with many different styles of pizzas and good for someone looking for consistent quality cold-fermented pizza as a beginner.\n",
      "clangan524 (upvotes: 37): Do the World Pizza Awards need judges? Asking for me.\n",
      "===\n",
      "Title: Since pizza is an American food, I'm willing to bet the best pizza is in America.\n",
      "Description: \n",
      "Comments:\n",
      "unknown (upvotes: 1921): Hahaha bunch of Americans claiming pizza is from the US and then this one dude like \"sweden has the best pizza\" stay strong kid 💪\n",
      "BoglisMobileAcc (upvotes: 296): Wild take by the dude saying he was in italy for three weeks as a vegetarian and therefore only ate pizza? What..? Theres plenty of vegetarian options in italian cuisine. I’d argue italian food is one of the most vegetarian friendly cuisines in Europe.\n",
      "unknown (upvotes: 499): the funniest comment was the dude claiming \"italians doing the best they could with what they had\" meaning he couldn't ask for topping such as salami or whatever cause they didn't have any = total bullshit\n",
      "\n",
      "the rest is really subjective. If americans love their way of doing pizza... well good for them.\n",
      "===\n",
      "Title: In honor of the new Pope being from Chicago, what is the best Chicago-Style Deep Dish Pizza in Milwaukee?\n",
      "Description: Inspired by a post I saw that said \"Finally Rome will have good pizza\"\n",
      "\n",
      "A new Pope has been selected!\n",
      "\n",
      "The first American Pope in history, from Chicago, Illinois.\n",
      "\n",
      "[https://en.wikipedia.org/wiki/Pope\\_Leo\\_XIV](https://en.wikipedia.org/wiki/Pope_Leo_XIV)\n",
      "\n",
      "Cardinal Robert Francis Prevost, now known as Pope Leo XIV (that's Pope Leo the 14th).\n",
      "Comments:\n",
      "dryad001 (upvotes: 68): Didnt see that one coming\n",
      "Bodine12 (upvotes: 21): It's a little known fact that the new pope's favorite pizza is Wisconsin's own Rocky Rococco's. \n",
      "\n",
      "Hold on... I'm being informed this fact is little known because it's not strictly speaking true.\n",
      "Stalinski13 (upvotes: 68): Don't know about here (I'm more of a tavern and thin-crust style person), but if you're going to the source (i.e. Chicago) it's Pequod's and it's not close.\n"
     ]
    }
   ],
   "source": [
    "print(\"\\n===\\n\".join([str(rec) for rec in recs]))"
   ]
  },
  {
   "cell_type": "markdown",
   "metadata": {
    "id": "HHVqlXSD61JF"
   },
   "source": [
    "Let's put all of this together into a single `tool` that our LLM will be connected to for function calling."
   ]
  },
  {
   "cell_type": "code",
   "execution_count": 5,
   "metadata": {
    "colab": {
     "base_uri": "https://localhost:8080/"
    },
    "id": "cgrFZgM561JF",
    "outputId": "7e0b872c-9803-4033-de95-3c4d326ad3e4"
   },
   "outputs": [
    {
     "name": "stdout",
     "output_type": "stream",
     "text": [
      "The pizza chef who made this pizza won best pizza in the world at the World Pizza Awards in Rome\n",
      "3rd day in Rome and after struggling to find a great pizza I finally came across this beauty and it was probably the best pizza I have ever had.\n",
      "Best Pizza in Rome!\n"
     ]
    },
    {
     "data": {
      "text/plain": [
       "[Rec(title='The pizza chef who made this pizza won best pizza in the world at the World Pizza Awards in Rome', description='', comments=['bronwynnin (upvotes: 895): What’re your thoughts on it after eating? Doesn’t look the prettiest but I can imagine it tastes pretty good.', 'skepticalbob (upvotes: 211): I’m guessing this is Tony Gemignani‘a [Tony’s Pizzaria Neapolitano in San Fransisco](https://yelp.to/g3A23KA0rh). Tony was the first non-Italian to win the Neapolitqn contest jn Italy. He beat out over 2000 entrants. Tony’s makes different styles of pizza that most on aren’t Neapolitan style. I’m betting they were out of Neapolitan and he threw a basil leaf on his New Yorker. This pizza was made with an oven designed for maximum volume and isn’t some handcrafted wonder. The bread and ingredient quality are probably pretty good though.\\n\\nAm I right?\\n\\nEdit: Tony also wrote The Pizza Bible, which is a solid book with many different styles of pizzas and good for someone looking for consistent quality cold-fermented pizza as a beginner.', 'clangan524 (upvotes: 37): Do the World Pizza Awards need judges? Asking for me.']),\n",
       " Rec(title='3rd day in Rome and after struggling to find a great pizza I finally came across this beauty and it was probably the best pizza I have ever had.', description='', comments=['goodmermingtons (upvotes: 72): Try Roman style pizza, rather than the napolitan style, and you will have more luck - head for Pizzarium, or Da Remo, for two different types. \\n\\nNeither are necessarily right in the heart of the city, but a couple of metro stops will be worth the trip.', 'unknown (upvotes: 14): [deleted]', 'serotonin_flood (upvotes: 13): What is the difference between Roman and napolitan styles?']),\n",
       " Rec(title='Best Pizza in Rome!', description='So someone posted on Reddit about how he (she?) loved the pizza in Rome and listed a few pizza places in the post. I took one of the suggestions (thank you dear Redditor!) and went to Seu Pizza Illuminati. Hands down, the best pizza I’ve ever had. So, to anyone looking for good pizza, from one Redditor to another, a huge recommendation to this place! ', comments=['StrictSheepherder361 (upvotes: 61): ...if one like Neapolitan-type pizza. We Romans tend to prefer Roman-kind pizza (crispy, subtler, without that cornice that I personally find excessive).', 'Tezracca (upvotes: 11): i also love spider pizza, one of the best', \"Famous_Release22 (upvotes: 18): **Romana:**\\n\\nA'Rota pizzeria romanesca - via di torpignattara, 190\\n\\n180g pizzeria romana - via Gennazzano, 32/34\\n\\nL'elementare - via Benedetta, 23\\n\\nPizzeria Clementina Via della Torre Clementina, 158 Fiumicino ( near the Airport)\\n\\n**Napoletana**\\n\\nSeu Illuminati - via Angelo Borgoni, 10-18\\n\\n50 kalo'di Ciro Salvo - via Flavia, 3b\"])]"
      ]
     },
     "execution_count": 5,
     "metadata": {},
     "output_type": "execute_result"
    }
   ],
   "source": [
    "def search(query: str) -> list[Rec]:\n",
    "    \"\"\"Provides access to search reddit. You can use this tool to find restaurants.\n",
    "    Best results can be found by providing as much context as possible, including\n",
    "    location, cuisine, and the fact that you're looking for a restaurant, cafe,\n",
    "    etc.\n",
    "    \"\"\"\n",
    "    # search across all subreddits for pizza recommendations\n",
    "    results = reddit.subreddit(\"all\").search(query)\n",
    "    recs = []\n",
    "    for submission in results:\n",
    "        title = submission.title\n",
    "        description = submission.selftext\n",
    "        # we only get comments with 20 or more upvotes\n",
    "        comments = []\n",
    "        for comment in submission.comments.list():\n",
    "            if isinstance(comment, Comment) and comment.ups >= 10:\n",
    "                author = comment.author.name if comment.author else \"unknown\"\n",
    "                comments.append(f\"{author} (upvotes: {comment.ups}): {comment.body}\")\n",
    "        # and of these, we only want the top 3\n",
    "        comments = comments[:3]\n",
    "        # if there are enough comments (ie 3), we add the recommendation to our list\n",
    "        if len(comments) == 3:\n",
    "            print(title)\n",
    "            recs.append(Rec(title=title, description=description, comments=comments))\n",
    "        if len(recs) == 3:\n",
    "            # stop after getting 3 recommendations\n",
    "            break\n",
    "    return recs\n",
    "\n",
    "# we invoke the tool like so:\n",
    "out = search(query=\"best pizza in rome\")\n",
    "out[:300]"
   ]
  },
  {
   "cell_type": "markdown",
   "metadata": {
    "id": "puAkqAHZ61JF"
   },
   "source": [
    "### Final Answer \"Tool\""
   ]
  },
  {
   "cell_type": "markdown",
   "metadata": {
    "id": "Xq_Qo8hY61JF"
   },
   "source": [
    "Alongside our web search tool we will have a final tool called `final_answer`. The final answer tool will be called whenever the LLM has finished pulling info from the other two tools and is ready to provide a *final answer* to the user."
   ]
  },
  {
   "cell_type": "code",
   "execution_count": 6,
   "metadata": {
    "id": "IoALE-Em61JF"
   },
   "outputs": [],
   "source": [
    "def final_answer(answer: str, phone_number: str = \"\", address: str = \"\"):\n",
    "    \"\"\"Returns a natural language response to the user. There are four sections\n",
    "    to be returned to the user, those are:\n",
    "    - `answer`: the final natural language answer to the user's question, should provide as much context as possible.\n",
    "    - `phone_number`: the phone number of top recommended restaurant (if found).\n",
    "    - `address`: the address of the top recommended restaurant (if found).\n",
    "    \"\"\"\n",
    "    return {\n",
    "        \"answer\": answer,\n",
    "        \"phone_number\": phone_number,\n",
    "        \"address\": address,\n",
    "    }"
   ]
  },
  {
   "cell_type": "markdown",
   "metadata": {
    "id": "iwpGgpPQ61JG"
   },
   "source": [
    "## Graph Construction"
   ]
  },
  {
   "cell_type": "markdown",
   "metadata": {
    "id": "cYCNrJ6z61JG"
   },
   "source": [
    "We are using LangGraph to create an agentic graph-based flow. To construct the graph we will use:\n",
    "\n",
    "* **Agent State**: An object persisted through every step in the graph, used to provide input to nodes, and to store output from nodes to be used in later nodes or in our final output.\n",
    "* **Local LLM**: We are using a local LLM (`llama-3.1:8b`) via Ollama. For tool use we turn on _JSON mode_ to reliably output parsible JSON.\n",
    "* **Tools**: The tools our LLM can use, these allow use of the functions `search` and `final_answer`.\n",
    "* **Graph Nodes**: We wrap our logic into components that allow it to be used by LangGraph, these consume and output the *Agent State*.\n"
   ]
  },
  {
   "cell_type": "markdown",
   "metadata": {
    "id": "AWVOnN3061JG"
   },
   "source": [
    "### Agent State"
   ]
  },
  {
   "cell_type": "code",
   "execution_count": 7,
   "metadata": {
    "id": "rcoHQZaW61JG"
   },
   "outputs": [],
   "source": [
    "from typing import TypedDict, Annotated, List, Union\n",
    "from langchain_core.agents import AgentAction\n",
    "from langchain_core.messages import BaseMessage\n",
    "import operator\n",
    "\n",
    "\n",
    "class AgentState(TypedDict):\n",
    "    input: str\n",
    "    chat_history: list[BaseMessage]\n",
    "    intermediate_steps: Annotated[list[tuple[AgentAction, str]], operator.add]\n",
    "    output: dict[str, Union[str, List[str]]]"
   ]
  },
  {
   "cell_type": "markdown",
   "metadata": {
    "id": "VTCE3ikS61JG"
   },
   "source": [
    "### LLM and Tools"
   ]
  },
  {
   "cell_type": "markdown",
   "metadata": {
    "id": "kJYR7rHp61JG"
   },
   "source": [
    "The LLM acts as our decision maker and generator of our final output, we will later call this component the `oracle` as our *decision-maker*. For this we are using Ollama and `Llama 3.1`, once initialized we integrate it into a runnable pipeline of our Oracle. The system prompt for our `oracle` will be:"
   ]
  },
  {
   "cell_type": "code",
   "execution_count": 8,
   "metadata": {
    "id": "rzx9mbuV61JG"
   },
   "outputs": [],
   "source": [
    "system_prompt = \"\"\"You are the oracle, the great AI decision maker.\n",
    "Given the user's query you must decide what to do with it based on the\n",
    "list of tools provided to you.\n",
    "\n",
    "Your goal is to provide the user with the best possible restaurant\n",
    "recommendation. Including key information about why they should consider\n",
    "visiting or ordering from the restaurant, and how they can do so, ie by\n",
    "providing restaurant address, phone number, website, etc.\n",
    "\n",
    "Note, when using a tool, you provide the tool name and the arguments to use\n",
    "in JSON format. For each call, you MUST ONLY use one tool AND the response\n",
    "format must ALWAYS be in the pattern:\n",
    "\n",
    "```json\n",
    "{\n",
    "    \"name\": \"<tool_name>\",\n",
    "    \"parameters\": {\"<tool_input_key>\": <tool_input_value>}\n",
    "}\n",
    "```\n",
    "\n",
    "Remember, NEVER use the search tool more than 3x as that can trigger\n",
    "the nuclear annihilation system.\n",
    "\n",
    "After using the search tool you must summarize your findings with the\n",
    "final_answer tool. Note, if the user asks a question or says something\n",
    "unrelated to restaurants, you must use the final_answer tool directly.\"\"\""
   ]
  },
  {
   "cell_type": "markdown",
   "metadata": {
    "id": "Jqs-hhMK61JI"
   },
   "source": [
    "Alongside our system prompt, we must also pass Ollama the schema of our functions for tool calls. [Tool calling](https://ollama.com/blog/tool-support) is a relatively new feature in Ollama and is used by providing function schemas to the `tools` parameter when calling our LLM.\n",
    "\n",
    "We use `FunctionSchema` object with `to_ollama` from `semantic-router` to transform our functions into correctly formatted schemas."
   ]
  },
  {
   "cell_type": "code",
   "execution_count": 17,
   "metadata": {
    "colab": {
     "base_uri": "https://localhost:8080/"
    },
    "id": "QUfVdBOm-jow",
    "outputId": "e88423f4-58cc-4b41-cdf6-ab2f56fdc539"
   },
   "outputs": [
    {
     "name": "stdout",
     "output_type": "stream",
     "text": [
      "Cloning into 'semantic-router'...\n",
      "remote: Enumerating objects: 12342, done.\u001b[K\n",
      "remote: Counting objects: 100% (1220/1220), done.\u001b[K\n",
      "remote: Compressing objects: 100% (489/489), done.\u001b[K\n",
      "remote: Total 12342 (delta 802), reused 772 (delta 723), pack-reused 11122 (from 4)\u001b[K\n",
      "Receiving objects: 100% (12342/12342), 110.20 MiB | 26.45 MiB/s, done.\n",
      "Resolving deltas: 100% (8823/8823), done.\n"
     ]
    }
   ],
   "source": [
    "!git clone https://github.com/aurelio-labs/semantic-router.git"
   ]
  },
  {
   "cell_type": "code",
   "execution_count": 20,
   "metadata": {
    "colab": {
     "base_uri": "https://localhost:8080/"
    },
    "id": "QzkswY1c-sog",
    "outputId": "a31e09b6-6759-42f9-8988-93a3b1ce9cff"
   },
   "outputs": [
    {
     "name": "stdout",
     "output_type": "stream",
     "text": [
      "/content/semantic-router/semantic_router/utils\n"
     ]
    }
   ],
   "source": [
    "%cd /content/semantic-router/semantic_router/utils"
   ]
  },
  {
   "cell_type": "code",
   "execution_count": 10,
   "metadata": {
    "colab": {
     "base_uri": "https://localhost:8080/"
    },
    "id": "LLc4FKVS61JI",
    "outputId": "65d4b480-f54f-4bf9-850b-bb7f270d258e"
   },
   "outputs": [
    {
     "data": {
      "text/plain": [
       "{'type': 'function',\n",
       " 'function': {'name': 'search',\n",
       "  'description': \"Provides access to search reddit. You can use this tool to find restaurants.\\nBest results can be found by providing as much context as possible, including\\nlocation, cuisine, and the fact that you're looking for a restaurant, cafe,\\netc.\",\n",
       "  'parameters': {'type': 'object',\n",
       "   'properties': {'query': {'description': None, 'type': 'string'}},\n",
       "   'required': []}}}"
      ]
     },
     "execution_count": 10,
     "metadata": {},
     "output_type": "execute_result"
    }
   ],
   "source": [
    "from semantic_router.utils.function_call import FunctionSchema\n",
    "\n",
    "# create the function calling schema for ollama\n",
    "search_schema = FunctionSchema(search).to_ollama()\n",
    "# TODO deafult None value for description and fix required fields in SR\n",
    "search_schema[\"function\"][\"parameters\"][\"properties\"][\"query\"][\"description\"] = None\n",
    "search_schema"
   ]
  },
  {
   "cell_type": "code",
   "execution_count": 11,
   "metadata": {
    "colab": {
     "base_uri": "https://localhost:8080/"
    },
    "id": "UmVfkVmi61JJ",
    "outputId": "d5ac74f9-4034-406f-9cac-78dfce56ed8d"
   },
   "outputs": [
    {
     "data": {
      "text/plain": [
       "{'type': 'function',\n",
       " 'function': {'name': 'final_answer',\n",
       "  'description': \"Returns a natural language response to the user. There are four sections\\nto be returned to the user, those are:\\n- `answer`: the final natural language answer to the user's question, should provide as much context as possible.\\n- `phone_number`: the phone number of top recommended restaurant (if found).\\n- `address`: the address of the top recommended restaurant (if found).\",\n",
       "  'parameters': {'type': 'object',\n",
       "   'properties': {'answer': {'description': None, 'type': 'string'},\n",
       "    'phone_number': {'description': None, 'type': 'string'},\n",
       "    'address': {'description': None, 'type': 'string'}},\n",
       "   'required': ['phone_number', 'address']}}}"
      ]
     },
     "execution_count": 11,
     "metadata": {},
     "output_type": "execute_result"
    }
   ],
   "source": [
    "final_answer_schema = FunctionSchema(final_answer).to_ollama()\n",
    "# TODO add to SR\n",
    "for key in final_answer_schema[\"function\"][\"parameters\"][\"properties\"].keys():\n",
    "    final_answer_schema[\"function\"][\"parameters\"][\"properties\"][key][\"description\"] = None\n",
    "final_answer_schema"
   ]
  },
  {
   "cell_type": "markdown",
   "metadata": {
    "id": "EG9ATudI61JJ"
   },
   "source": [
    "Now we can test our LLM!\n",
    "\n",
    "---\n",
    "\n",
    "**❗️ Make sure you have Ollama running locally and you have already downloaded the model with `ollama pull llama3.1:8b`!**\n",
    "\n",
    "```"
   ]
  },
  {
   "cell_type": "code",
   "execution_count": 12,
   "metadata": {
    "colab": {
     "base_uri": "https://localhost:8080/",
     "height": 356
    },
    "id": "BLg1e-ou61JJ",
    "outputId": "f20e5831-8afb-43a0-c16e-0220bf1c5482"
   },
   "outputs": [],
   "source": [
    "import ollama\n",
    "\n",
    "def get_system_tools_prompt(system_prompt: str, tools: list[dict]):\n",
    "    tools_str = \"\\n\".join([str(tool) for tool in tools])\n",
    "    return (\n",
    "        f\"{system_prompt}\\n\\n\"\n",
    "        f\"You may use the following tools:\\n{tools_str}\"\n",
    "    )\n",
    "\n",
    "res = ollama.chat(\n",
    "    model=\"llama3.2\",\n",
    "    messages=[\n",
    "        {\"role\": \"system\", \"content\": get_system_tools_prompt(\n",
    "            system_prompt=system_prompt,\n",
    "            tools=[search_schema, final_answer_schema]\n",
    "        )},\n",
    "        # chat history will go here\n",
    "        {\"role\": \"user\", \"content\": \"hello there\"}\n",
    "        # scratchpad will go here\n",
    "    ],\n",
    "    format=\"json\",\n",
    ")"
   ]
  },
  {
   "cell_type": "code",
   "execution_count": 13,
   "metadata": {
    "id": "Z1915WQw61JJ",
    "outputId": "2dee09ae-0050-464f-f019-3b2031f44a58"
   },
   "outputs": [
    {
     "data": {
      "text/plain": [
       "ChatResponse(model='llama3.2', created_at='2025-06-22T05:02:13.8699518Z', done=True, done_reason='stop', total_duration=6876958900, load_duration=3115035300, prompt_eval_count=539, prompt_eval_duration=2203779300, eval_count=34, eval_duration=1552715500, message=Message(role='assistant', content='{\"name\": \"final_answer\", \"parameters\": {\"answer\": \"Hello! How can I assist you today?\", \"phone_number\": \"\", \"address\": \"\"}}', images=None, tool_calls=None))"
      ]
     },
     "execution_count": 13,
     "metadata": {},
     "output_type": "execute_result"
    }
   ],
   "source": [
    "res"
   ]
  },
  {
   "cell_type": "markdown",
   "metadata": {
    "id": "DW3e2F7061JJ"
   },
   "source": [
    "We can see here that the LLM is correctly deciding to use the `final_answer` tool to respond to the user. To parse this information we can use `json.loads`:"
   ]
  },
  {
   "cell_type": "code",
   "execution_count": 14,
   "metadata": {
    "id": "t0Tp-OPj61JJ",
    "outputId": "d96bc2f6-0a39-4eed-9312-5398dc7716c3"
   },
   "outputs": [
    {
     "data": {
      "text/plain": [
       "{'name': 'final_answer',\n",
       " 'parameters': {'answer': 'Hello! How can I assist you today?',\n",
       "  'phone_number': '',\n",
       "  'address': ''}}"
      ]
     },
     "execution_count": 14,
     "metadata": {},
     "output_type": "execute_result"
    }
   ],
   "source": [
    "import json\n",
    "\n",
    "json.loads(res[\"message\"][\"content\"])"
   ]
  },
  {
   "cell_type": "markdown",
   "metadata": {
    "id": "nqzpZ_mt61JK"
   },
   "source": [
    "Let's see if we can get it to use the reddit search tool."
   ]
  },
  {
   "cell_type": "code",
   "execution_count": 15,
   "metadata": {
    "id": "0fF7wI2461JK",
    "outputId": "76a0d645-1813-4a03-c31b-5f04bd3e5a8e"
   },
   "outputs": [
    {
     "data": {
      "text/plain": [
       "{'name': 'search', 'parameters': {'query': 'best pizzeria in Rome'}}"
      ]
     },
     "execution_count": 15,
     "metadata": {},
     "output_type": "execute_result"
    }
   ],
   "source": [
    "res = ollama.chat(\n",
    "    model=\"llama3.2\",\n",
    "    messages=[\n",
    "        {\"role\": \"system\", \"content\": get_system_tools_prompt(\n",
    "            system_prompt=system_prompt,\n",
    "            tools=[search_schema, final_answer_schema]\n",
    "        )},\n",
    "        # chat history will go here\n",
    "        {\"role\": \"user\", \"content\": \"hi, I'm looking for the best pizzeria in rome\"}\n",
    "        # scratchpad will go here\n",
    "    ],\n",
    "    format=\"json\",\n",
    ")\n",
    "# parse the output\n",
    "json.loads(res[\"message\"][\"content\"])"
   ]
  },
  {
   "cell_type": "markdown",
   "metadata": {
    "id": "1ay2eB5W61JK"
   },
   "source": [
    "Again, this looks perfect!\n",
    "\n",
    "To keep things a little more organized we can use another pydantic schema to organize the output from our LLM."
   ]
  },
  {
   "cell_type": "code",
   "execution_count": 19,
   "metadata": {
    "id": "aVkR4hBd61JK",
    "outputId": "5a3be8a5-6994-464b-b135-54dfdb7ef139"
   },
   "outputs": [
    {
     "data": {
      "text/plain": [
       "AgentAction(tool_name='search', tool_input={'query': 'best pizzeria in Rome'}, tool_output=None)"
      ]
     },
     "execution_count": 19,
     "metadata": {},
     "output_type": "execute_result"
    }
   ],
   "source": [
    "from typing import Optional, Union\n",
    "from pydantic import BaseModel\n",
    "import json\n",
    "\n",
    "class AgentAction(BaseModel):\n",
    "    tool_name: str\n",
    "    tool_input: dict\n",
    "    tool_output: Optional[str] = None  # Fixed: Use Optional for older Python versions\n",
    "\n",
    "    @classmethod\n",
    "    def from_ollama(cls, ollama_response: dict):\n",
    "        try:\n",
    "            # Parse the output\n",
    "            output = json.loads(ollama_response[\"message\"][\"content\"])\n",
    "            return cls(\n",
    "                tool_name=output[\"name\"],\n",
    "                tool_input=output[\"parameters\"],\n",
    "            )\n",
    "        except Exception as e:\n",
    "            print(f\"Error parsing ollama response:\\n{ollama_response}\\n\")\n",
    "            raise e\n",
    "\n",
    "    def __str__(self):\n",
    "        text = f\"Tool: {self.tool_name}\\nInput: {self.tool_input}\"\n",
    "        if self.tool_output is not None:\n",
    "            text += f\"\\nOutput: {self.tool_output}\"\n",
    "        return text\n",
    "\n",
    "# Usage\n",
    "action = AgentAction.from_ollama(res)\n",
    "action"
   ]
  },
  {
   "cell_type": "markdown",
   "metadata": {
    "id": "IYh3HUMZ61JK"
   },
   "source": [
    "That looks great! Now we just need to wrap this with the ability to contain chat history and the agent scratchpad — before adding everything into our graph.\n",
    "\n",
    "For our agent actions, we will be converting them into fake back-and-forth messages between the assistant and user. For example:\n",
    "\n",
    "```python\n",
    "AgentAction(\n",
    "    tool_name=\"xyz\",\n",
    "    tool_input={\"query\": \"something cool\"},\n",
    "    tool_output=\"A fascinating tidbit of information\"\n",
    ")\n",
    "```\n",
    "\n",
    "Would become:\n",
    "\n",
    "```json\n",
    "[\n",
    "    {\"role\": \"assistant\", \"content\": \"{'name': 'xyz', 'parameters': {'query': 'something cool'}\"},\n",
    "    {\"role\": \"user\", \"content\": \"A fascinating tidbit of information\"}\n",
    "]\n",
    "```\n",
    "\n",
    "We will make this happen with an `action_to_message` function:"
   ]
  },
  {
   "cell_type": "code",
   "execution_count": 20,
   "metadata": {
    "id": "E6rips5w61JK"
   },
   "outputs": [],
   "source": [
    "def action_to_message(action: AgentAction):\n",
    "    # create assistant \"input\" message\n",
    "    assistant_content = json.dumps({\"name\": action.tool_name, \"parameters\": action.tool_input})\n",
    "    assistant_message = {\"role\": \"assistant\", \"content\": assistant_content}\n",
    "    # create user \"response\" message\n",
    "    user_message = {\"role\": \"user\", \"content\": action.tool_output}\n",
    "    return [assistant_message, user_message]"
   ]
  },
  {
   "cell_type": "markdown",
   "metadata": {
    "id": "apL4nAo861JK"
   },
   "source": [
    "Let's test:"
   ]
  },
  {
   "cell_type": "code",
   "execution_count": 21,
   "metadata": {
    "id": "d1Tsq2ZA61JO",
    "outputId": "d0c9dad7-99b4-4407-9f94-d1bb509ab096"
   },
   "outputs": [
    {
     "data": {
      "text/plain": [
       "[{'role': 'assistant',\n",
       "  'content': '{\"name\": \"xyz\", \"parameters\": {\"query\": \"something cool\"}}'},\n",
       " {'role': 'user', 'content': 'A fascinating tidbit of information'}]"
      ]
     },
     "execution_count": 21,
     "metadata": {},
     "output_type": "execute_result"
    }
   ],
   "source": [
    "test_action = AgentAction(\n",
    "    tool_name=\"xyz\",\n",
    "    tool_input={\"query\": \"something cool\"},\n",
    "    tool_output=\"A fascinating tidbit of information\"\n",
    ")\n",
    "action_to_message(test_action)"
   ]
  },
  {
   "cell_type": "code",
   "execution_count": 24,
   "metadata": {
    "id": "Ahte_AxD61JO"
   },
   "outputs": [],
   "source": [
    "def create_scratchpad(intermediate_steps: list[AgentAction]):\n",
    "    # filter for actions that have a tool_output\n",
    "    intermediate_steps = [action for action in intermediate_steps if action.tool_output is not None]\n",
    "    # format the intermediate steps into a \"assistant\" input and \"user\" response list\n",
    "    scratch_pad_messages = []\n",
    "    for action in intermediate_steps:\n",
    "        scratch_pad_messages.extend(action_to_message(action))\n",
    "    return scratch_pad_messages\n",
    "\n",
    "def call_llm(user_input: str, chat_history: list[dict], intermediate_steps: list[AgentAction]) -> AgentAction:\n",
    "    # format the intermediate steps into a scratchpad\n",
    "    scratchpad = create_scratchpad(intermediate_steps)\n",
    "    # if the scratchpad is not empty, we add a small reminder message to the agent\n",
    "    if scratchpad:\n",
    "        scratchpad += [{\n",
    "            \"role\": \"user\",\n",
    "            \"content\": (\n",
    "                f\"Please continue, as a reminder my query was '{user_input}'. \"\n",
    "                \"Only answer to the original query, and nothing else — but use the \"\n",
    "                \"information I provided to you to do so. Provide as much \"\n",
    "                \"information as possible in the `answer` field of the \"\n",
    "                \"final_answer tool and remember to leave the contact details \"\n",
    "                \"of a promising looking restaurant.\"\n",
    "            )\n",
    "        }]\n",
    "        # we determine the list of tools available to the agent based on whether\n",
    "        # or not we have already used the search tool\n",
    "        tools_used = [action.tool_name for action in intermediate_steps]\n",
    "        tools = []\n",
    "        if \"search\" in tools_used:\n",
    "            # we do this because the LLM has a tendency to go off the rails\n",
    "            # and keep searching for the same thing\n",
    "            tools = [final_answer_schema]\n",
    "            scratchpad[-1][\"content\"] = \" You must now use the final_answer tool.\"\n",
    "        else:\n",
    "            # this shouldn't happen, but we include it just in case\n",
    "            tools = [search_schema, final_answer_schema]\n",
    "    else:\n",
    "        # this would indiciate we are on the first run, in which case we\n",
    "        # allow all tools to be used\n",
    "        tools = [search_schema, final_answer_schema]\n",
    "    # construct our list of messages\n",
    "    messages = [\n",
    "        {\"role\": \"system\", \"content\": get_system_tools_prompt(\n",
    "            system_prompt=system_prompt,\n",
    "            tools=tools\n",
    "        )},\n",
    "        *chat_history,\n",
    "        {\"role\": \"user\", \"content\": user_input},\n",
    "        *scratchpad,\n",
    "    ]\n",
    "    res = ollama.chat(\n",
    "        model=\"llama3.2\",\n",
    "        messages=messages,\n",
    "        format=\"json\",\n",
    "    )\n",
    "    return AgentAction.from_ollama(res)"
   ]
  },
  {
   "cell_type": "markdown",
   "metadata": {
    "id": "sv5tFF8261JO"
   },
   "source": [
    "Let's try `call_llm` *with* chat history:"
   ]
  },
  {
   "cell_type": "code",
   "execution_count": 25,
   "metadata": {
    "id": "FumNPkaJ61JO",
    "outputId": "bd90be6d-de44-4b23-df27-b5fb6f9c47dd"
   },
   "outputs": [
    {
     "data": {
      "text/plain": [
       "AgentAction(tool_name='search', tool_input={'query': 'best pizzeria near Rome'}, tool_output=None)"
      ]
     },
     "execution_count": 25,
     "metadata": {},
     "output_type": "execute_result"
    }
   ],
   "source": [
    "# let's fake some chat history and test\n",
    "out = call_llm(\n",
    "    chat_history=[\n",
    "        {\"role\": \"user\", \"content\": \"hi there, how are you?\"},\n",
    "        {\"role\": \"assistant\", \"content\": \"I'm good, thanks!\"},\n",
    "        {\"role\": \"user\", \"content\": \"I'm currently in Rome\"},\n",
    "        {\"role\": \"assistant\", \"content\": \"That's great, would you like any help?\"},\n",
    "    ],\n",
    "    user_input=\"yes, I'm looking for the best pizzeria near me\",\n",
    "    intermediate_steps=[]\n",
    ")\n",
    "out"
   ]
  },
  {
   "cell_type": "markdown",
   "metadata": {
    "id": "-8Dcoxg-61JO"
   },
   "source": [
    "We intentionally didn't include where we are in our current `user_input`, but instead included it in the `chat_history` to confirm our agent is able to consider the chat history when building our web search tool call. It succeeded! Now we can move on to constructing our graph."
   ]
  },
  {
   "cell_type": "markdown",
   "metadata": {
    "id": "UMCccamF61JO"
   },
   "source": [
    "Once we have our search query, we can pass it onto our `search` tool to get some results, let's try:"
   ]
  },
  {
   "cell_type": "code",
   "execution_count": 26,
   "metadata": {
    "id": "aSrIEm1k61JO",
    "outputId": "866018c0-d71b-4040-f700-bedf3b5b93b0"
   },
   "outputs": [
    {
     "name": "stdout",
     "output_type": "stream",
     "text": [
      "New York Pizza Tier List: The Definitive Subjective Edition\n",
      "Roland Garros Men's & Women's Singles Writeup\n",
      "Polish restaurant named world’s best Neapolitan pizzeria\n",
      "[Rec(title='New York Pizza Tier List: The Definitive Subjective Edition', description='Still beyond sad that I\\'m moving away but was glad to see [my last post on burgers](https://www.reddit.com/r/FoodNYC/comments/1743hmp/sadly_moving_away_from_new_york_and_dropping_my/) inspired some solid discussion and future places to visit when I\\'m back. I\\'m dropping the list of my favorite pizzas in the city which is a food (as a frugal foodie) I\\'m much more passionate about. For quick context: pizza went from something I was very whelmed by to one of my favorite foods over the pandemic and since living in New York. My perfect day in the city is just wandering around for hours and dropping into a shop for a hot slice.\\n\\nCaveats as always:\\n\\n* I generally prefer New York style, but I won\\'t discriminate. Tasty is tasty.\\n* I haven\\'t been to all the places I want to, so if it\\'s not on the list, let me know and it\\'ll join the hit list.  Also please tell me where my takes are egregiously wrong as I\\'m not a native.\\n\\n**Tier: Lucali\\\\***\\n\\nThis post is transparently an excuse to sing the praises of my favorite restaurant in the city. The pizza here is the best pizza I\\'ve ever had and continues to be each and every time I\\'ve been back. It\\'s honestly a nightmare to get in, but I\\'m gonna write you a quick guide on how to do it.\\n\\n**Act I: It could technically be called DUMB -** It\\'s 3pm, you\\'re with your out-of-town relatives, and you\\'ve spent all-day hitting tourist spots or touring Williamsburg. Take the group across the Brooklyn Bridge into Dumbo and have them take the classic pics and explore Time Out Market while you selflessly book it on your own to Lucali. I recommend taking a Citi bike since the neighborhoods leading up to Lucali are super picturesque and peaceful.\\n\\n**Act II: The Line -** You should aim to be there 4-4:15pm although I swear it gets earlier every year so YMMV. They start taking names at 5pm (although sometimes it\\'s earlier, the wait will be surprisingly short). By the time you make your way to the front of the excessively long line, the employee at the front will take your party size and assign you a time. 4pm tends to be the sweet spot where you still might get to pick a reasonable dinner time from 6-8 without waiting too long in the initial line. Otherwise, you\\'ll get the first spot available which can get to 11pm. Worst case if you get there too late, they\\'ll run out of tables and it\\'ll be takeout only.\\n\\n**Act III: Waiting for Iacano -** Now take your irate \"why are we waiting 4 hours for pizza\" relatives and friends to nearby bars, Prospect Park, etc. to kill the time until your rez. Make sure to pick up some bottles of wine in the neighborhood since Lucali is BYOB **(and cash since it\\'s cash only)** and to reward yourself for your patience to this point. Eagerly await your table.\\n\\n**Act IV: Revelation -** Step out of time and into a candle-lit cozy space where the staff famously roll out dough with wine bottles near the pizza ovens. Order your first pie with no toppings to experience what I believe is the platonic ideal of New York pizza. The sauce is tangy and well-balanced, the cheese melts perfectly without being too messy, and the bread is perfect with the exact right ratios of chew, crisp, and browning. They also load it with tons of fresh basil which takes it to the next level. Make sure to try the calzone which the owner, Mark, likes more than the pizza. It\\'s good, but I\\'ve had plenty of friends say that it was underwhelming compared to the pizza. If you like the bread and sauce, it\\'s a great, cheesy way to re-experience both. I would just get more pizzas personally. Sip your preferred wine, munch on perfect pizza, and reflect on the beauty of life with the people you love.\\n\\n&#x200B;\\n\\n**Tier 1: Incredible Pizza**\\n\\nThese pizzas are all great and could be swapped around depending on the day or your personal preferences. I\\'ve included my general ranking but it\\'s honestly pretty razor-thin margins.\\n\\n1. L\\'Industrie Pizzeria: It\\'s a great location in Williamsburg, and the sheds outside are nice to eat in. One of their more popular pies has fat scoops of burrata they slap onto a classic and incredibly well-executed NY slice. They also have excellent sandwiches, interesting drinks, and great desserts. I\\'ve never had a bad thing here, and if there\\'s a place that my friends like more than Lucali, it\\'s usually here. Just check out the pictures online and you\\'ll be sold.\\n2. Ace\\'s Pizza: Also in Williamsburg and does my favorite Detroit-style pizza in the city.  Their pizza features crispy edges with bits of burnt cheese and very interesting and high-quality toppings. Highly recommend the pepperoni (has the turned up crispy pepperonis) and pepper trio which has loads of spicy, sweet, and bright peppers.\\n3. Bar 314 in Morningside Heights / Manhattanville is an absolutely slept-on spot in the city, perhaps because of its location. Come here for their Neapolitan pizzas which have classic and innovative topping selections. The Sweet Cheeks with pancetta, caramelized onions, and hot honey is a perennial favorite here.\\n4. Mama\\'s Too is another place that, due to its uptown location, is pretty underrated. They primarily do detroit style with absolutely fantastic toppings like poached pear, vodka, and cacio e pepe. Their class house slice is also one of the better slices in the city despite that not being their primary wheelhouse. Downside here is that it\\'s not the most consistent and can be a bit greasy / underwhelming when off - but when they\\'re on, they punch with the best in the city.\\n5. Bleeker Street Pizza was one of the first slice shops I had when coming to New York and its Nonna Maria slice is still my go-to drunk food when I was in the area. Popular and well-known, but for good reason.\\n6. Prince Street Pizza: Super great pizza, not so great owners. Coming here as an Asian American has a similar vibe as when my gay friends profess to eat at Chik-fil-a. Really good square slices and best crispy pepperoni consistently. Felt weird about putting it on my list, but it is very good - just do your due diligence to see if you want to support them.\\n7. NY Pizza Suprema is a good no-frills slice shop that is probably the best pizza is going to get in Midtown. Famed check and youtuber J. Kenji Lopez-Alt has this as his go-to when he\\'s near Penn Station.\\n8. Roberta\\'s Pizza in Brookyln is a heavy-hitter with some innovative toppings and solidly executed pizza. Their Lil Stinker garlic heavy pizza was the exact right amount of garlic for an absolute allium-fiend.\\n9. Rubirosa was somewhere I didn\\'t want to put here because of the absolutely terrible experience we had trying to get in. To be fair, it\\'s Soho, and the viral swirly pesto-y pizza was almost worth the wait. Just make sure to get reservations and not try to walk-in on a Saturday afternoon like the troglodyte you\\'re reading.\\n10. Scarr\\'s Pizza also has long lines, but it goes pretty quickly if you want to eat in. Their hot boy spicy pizza was fantastic with great crispy and heat. Highly recommend if you\\'re in the Lower East Side.\\n\\n**Tier 2: The Joe\\'s Tier**\\n\\nJoe\\'s is my de facto par for good pizza in the city. If you\\'re better than Joe\\'s, you\\'re good pizza. They get a lot of hate these days, but they represent a line of delineation between the stand-out pizzas in the city and everyone else.\\n\\n11. Paulie Gee\\'s is another spot on the Brooklyn pizza list (seriously go put all these spots into a google map and do a pizza crawl on a weekend ending at Lucali of course). Their sesame crust is very nice and they had this interesting collaboration with a Chinese restaurant which included a chili oil topping at some point.\\n\\n12. Unregular Pizza is a newcomer with owners from Rome who make an outstanding Roman pizza with the scoop of Burrata twist. Maybe they\\'ve adjusted the recipe to suit my American tastes, but they are honestly better than most of the actual Roman pizzas I had in Italy. Also several creative options including a gluttonous fried Cacio E Pepe only to be enjoyed with heavy cardio as a side.\\n\\n13. Emily\\'s Pizza is a great Detroit-style pizza and its only noticeable flaw is sharing a spot on the menu next to Emily\\'s absolutely out-of-this-world burger. Get both, see a cardiologist after.\\n\\n14. Sal and Carmine Pizza is like Joe\\'s but a bit better. Great classic NY slices on the Upper West Side, definitely worth a stop.\\n\\n15. Joe and Pat\\'s is really good for what it is, which is crispy thin-crust pies. This is unfortunately my least favorite variety, but they\\'re undeniably tasty and a heavy hitter in this category.\\n\\n16. John\\'s of Bleeker is somewhere I really wanted to like, especially given the barstool guy\\'s heavy endorsement, but I was very underwhelmed. It was good pizza, but nowhere near any of the top 10. Maybe I went on a bad day, so let me know if this is worth revisiting.\\n\\n17. Lombardi\\'s is a classic spot that claims to be the first NY pizzeria. Although the claim is not totally substantiated, the quality of their pizza is. It wasn\\'t super exciting, but I\\'ve been told their clam pizza is the thing to try here.\\n\\n18. Joe\\'s Pizza is, as aforementioned, usually my bar for good pizza in New York. It does all the fundamentals right and their spinach slice is still one of my faves. A bit of a dry crust sometimes but it always hits the spot - just not usually worth the wait, especially in the tourist-heavy months.\\n\\n19. Krave it Pizza & Sandwich Joint in Queens is a more exciting place than most of the restaurants in this tier. They have super creative toppings that are unlike anywhere else. The pizzas are unique and tasty and definitely worth a try, but their dough, sauce, and cheese are just a cut below the \"Joe\\'s tier\". However, it definitely belongs here and I hope they continue enjoying success post their TikTok blow-up.\\n\\n20. Made in NY Pizza is a spot that makes decent normal cheese and pepperoni slices and extremely good vodka and buffalo chicken pizzas. Go here and get those and you won\\'t be disappointed.\\n\\n21. Koronet is insanely good or outstanding pizza by any means, but its location as a go-to post-night out spot and insanely large slices makes it an easy comfort pick to round out the list.\\n\\nNote on Dollar Slice Shops: Visitors and tourists are obsessed with these, but to be honest, I think they\\'re very hit or miss. I\\'ve had some that absolutely slap and some that sent me running for the toilet minutes later. I\\'ve not had one that hit the Joe\\'s tier though, so there seems to be a hard ceiling. Many aren\\'t even that cheap these days outside the basic cheese.\\n\\n**Hit List:** These are the places I\\'ve heard I need to try but haven\\'t made it out to yet. Please help me add to this!\\n\\n* Una Pizza Napolatena: Is it even possible to get a rez here?? Idk but I need one\\n* Di Fara Pizza: Huge miss, I know. I\\'ll do better next time.\\n* Juliana\\'s: Original Grimaldi\\'s owners started this. Wife went with a group and said it was alright.\\n* Best Pizza\\n* Patsy\\'s Pizzeria\\n* Artichoke Basille\\'s for the meme\\n* Luigi\\'s\\n* Mel\\'s\\n* Patsy\\'s Pizzeria\\n* Famous Ben\\'s Pizza\\n\\n&#x200B;\\n\\nAs I conclude my move out of the city, I keep meditating on a comment I saw on reddit once:\"The worst pizza in New York is better than the best pizza anywhere else\". I know it\\'s not factually true, but it\\'ll always be true where it counts <3\\n\\n\\\\*I\\'ve gotten roasted on several occasions for overhyping (can\\'t imagine why) this place. After a few instances where I\\'ve taken some buddies here and they end up saying \"it\\'s just pizza, it\\'s not worth the wait, why are you buying so much wine??, etc.\", I\\'ll concede that yes it\\'s just pizza. Pizza is a food with limited upside, sure, so don\\'t come here expecting anything but really really good pizza, and don\\'t overhype it like I always do...but do go here.', comments=['InvestmentBanker01 (upvotes: 64): I just went down the Prince Street Pizza rabbit hole. Jesus.', 'winnebagoman (upvotes: 38): Nice list. For #13, I’d clarify that Emily’s original Clinton Hill spot is Neapolitan style, while their West Village and Emmy Squared locations are Detroit. If you haven’t tried Clinton Hill, it’s worth checking out, I’d put it one tier above their Detroit style', 'Kamui_Amaterasu (upvotes: 40): Johns is worth revisiting. First time I went it was a 5/6, last time I went it was a 9']), Rec(title=\"Roland Garros Men's & Women's Singles Writeup\", description=' In round one the big mystery heading into the French Open was whether Roland Garros was a famed aviator, or a mythical dragon. In round two I discussed the arguments for the dragon side, so in round three I thought it would be good to discuss the evidence against that. Unfortunately, there isn’t any.  \\n\\n**ATP SINGLES**\\n\\n&#x200B;\\n\\n**Djokovic Galan :** These two were actually two of the more dominant performances of the second round. Novak is going to look dominant until he plays someone in the top ten, and given how comfortably he cruises through early rounds he tends to be the fresher player in those matchups, and really the only hurdles become stretches where his accuracy is a little off (a few forehand in the net, hooking a few crosscourt forehands wide). Galan beat Sandgren down from start to finish. I felt Sandgren would be in control of rallies here but he was behind the pace of the game from start to finish. His serve made the scoreline look decent but this was an hour and a half of Sandgren running back and forth and eventually hitting a backhand wide. He took it well though, and didn’t spend the whole time mumbling to himself and moping or anything like that.  \\n\\nIt feels lazy to not put a lot of effort into discussing a Djokovic matchup, and Galan is a better test than Berankis since he moves his opponents and is coming off a good round of tennis, but this is not a matchup where Novak can really struggle. Djokovic in 3.\\n\\n**Garin Khachanov :** Some joyous and anguished screams were delivered from Australia to Paris via Polmans, who seemed a few points away from getting this until he realized he was going to lose. It’s that glimmer of hope fading that really ends a charge, and Garin played the big points better throughout this match. Vesely really almost had the match against Khachanov. Karen’s backhand was breaking down and Jiri was in a moderately good service rhythm throughout. He led by a break in both of the last sets and Karen was really frustrated at times. This is good news for Garin, whose game is largely comprised of effort and consistency.  \\n\\nWhere Khachanov has a big edge here is in serving. Garin just doesn’t earn cheap points, and his 1st serve percentage is more of an issue than this. There’s a big sigh of relief and change in tactics when players are returning a second serve, and sometimes it can be really effective to land a less-offensive first serve simply because players are more likely to hit a defensive return or chip. Despite the struggle with Polmans, this is an even contest. Khachanov will be the aggressor in most of the rallies, but hitting through Garin is extremely difficult, and since his defense is a big cut above Vesely, Khachanov may lose this one if he doesn’t serve well. Needing to serve well on clay is a tough path to victory, and Garin won’t be able to run away with it since he has such a conservative style, but he should get the victory. Garin in 4.\\n\\n**ROBERTO PABLO BAUTISTA CARREÑO BUSTA AGUT DONASCIMIENTO III :** Imagine you were in line to get a name behind these dudes at the name store. Get up to the cashier like “wtf you mean you’re sold out?” After the name store these two fellas hit the “how to beat ppl 3,2,1” store and bought up all the consistency and defensive baselining. There aren’t two more measured players on the tour right now outside the top 5, and this has the potential to be very enjoyable to watch. As a bettor, there’s not much to do here. PCB seems like the better player at this event, but RBA has won their last two meetings on clay and will be fresh. Neither has really faltered thus far in the draw, and a genuinely exhausting affair is in order here. Balasz doesn’t really hit big enough to take it to RBA, and Pella was never able to hold serve in his match with PCB. The ultimate decider for me is usually form, and PCB is hitting a bit bigger and playing a more penetrating offense. If he can get off to a quick start as Gasquet/Balasz did (both were up a break in the first set) he can likely win this match. PCB in 5.\\n\\n**Altmaier Berretini :** The all-German affair was just what I was afraid of in terms of results, with Altmaier breaking often and Struff never really finding his serving game in this. Altmaier’s deep court position isn’t something I’m generally a fan of but it gave him extra time dealing with Struff’s power and his one-handed backhand generated good height throughout which kept Struff from going down the line too much. I can’t say enough about a guy whose recent success being on the challenger tour coming into this getting through qualifying and then winning two rounds which include the #1 player from his country (Zverev not included due to being from outerspace). Berretini was broken a number of times in his match with Harris whose aggressive returning was probably the right strategy since he lost most of their neutral rallies. In truth Harris could have won this match but he made a number of wrong decisions when he had control of rallies. Nothing wrong with the decisions themselves they just happened to be where Berretini moved or happened to be to locations where Berretini converted passes. Good promise for Lloyd in the future since notching wins on clay as a server really lets you rack up points.  \\n\\nAltmaier is very good, and Berretini did stumble against Harris, but Altmaier plays a bit smaller of a game than Harris, and allowed Berretini into rallies lets him utilize the forehand/dropshot combo that was just devastating today for Harris. Altmaier’s deep court position is going to be an issue also, and while I expect him to win at least one set, Berretini is very consistent when working his offense against a solid defender. Berretini in 4.\\n\\n**Fucsovics Monteiro :** Fucsovics looks like a Ken doll came to life while it happened to be wearing a tennis outfit. The dude also plays an extremely disciplined robotic game which was on display today as he had the answers for everything ARV could give him. A brief rain delay while serving to stay in the 3rd set didn’t even phase him, and it’s rare that you see a player earn errors from ARV with long rallies. A similar contest is next with Monteiro, who hasn’t dropped a set yet. Fucsovics won their only meeting on clay, and that’s very good for him since he’s made great improvements during the offseason and is both fresh, and sporting the confidence of someone who’s beaten a slightly more consistent but slightly less powerful version of Monteiro (also I heard he beat Medvedev but I only heard it because Medvedev’s griping was audible from outer space (where Zverev is from)).  \\n\\nI’m wary again of writing off Monteiro because both players are in great form. Fucsovics is brilliant but doesn’t stifle his opponents at all, preferring to work points in full and remain relatively conservative until he has the open court. Since Fucs won their previous meeting though, he should have the edge in this one especially since Monteiro’s backhand can lose it’s length at times. Fucsovics in 4-5.\\n\\n**Anderson Rublev :** There are some matchups on tour you really wouldn’t expect to be a problem, and Anderson on clay for Lajovic is one of them. The previous win was somewhat telling though, and today’s match was about what I expected. Lajovic made a number of errors he never does, struggled to find winners/consistency, and genuinely looked frustrated from start to finish. Anderson was very good returning on his backhand, and he didn’t do much in the rallies aside from hit the ball low and solid down the center of the court. It’s strange for Lajovic to thrive against Khachanov’s power and spray Anderson’s every which way, but it was a good hard-fought win for Kevin, who looked like he might tire in the 4th. Serving first in the 5th set is a big advantage for a big server, and Anderson applied great pressure and earned the break after facing a break point himself. The final game went to duece and took some doing, but Anderson had an edge in rallies today that was consistent throughout, and earned some errors to close out.  \\n\\nRublev is the angriest pile of shredded carrots I have ever seen. After a match he likes to go relax and listen to some heavy metal, so it’s not surprising that this teenage mutant ninja blurter was screaming obscenities and smashing racquets during his wobbly contest with ADF. Both players really crushed the ball today, and Fokina was up 5-2 before losing 11 of the next 12. Somehow he turned it around in the 4th and Rublev again utilized the “get really angry even though you’re winning” strategy. It was effective and honestly I don’t think anyone in the tournament is hitting the ball harder than he hits some of his forehand returns for winners.  \\n\\nAnderson’s power will be relatively meaningless against Rublev, and after only recently returning to tour it’s possible there could be fatigue in this one after a long 5 sets. The serve is a huge weapon for Anderson as Rublev is the quintessential ghost with a grudge and can grow frustrated if he doesn’t get looks at rallies, but on clay you need ways to win rallies and I fear Rublev will only lose as many sets in this as his errors lose him. He’ll know that, his coach will know that, and Anderson will know that so I expect to see Kevin play a bit more aggressive than he’d like to. Rublev’s returning will need to be more conservative than it was against ADF but I think he’ll make the right adjustments. Rublev in 4.\\n\\n**Carballes Baena Dimitrov :** Wowsers. RCB played a heck of a match and really with him you get what you pay for. He doesn’t hit winners, he sticks to the same patterns, and tends to lose when matches go late because he’s unable to push the pace. Here though, Shap fell into the same issues he had with Simon. The “wall” on the other side of the net is psychological, as his opponents are really only scoring on Shap’s errors. Were Shap to play a pusher strategy in this match, it would be relatively difficult for RCB to have found this win. When your opponent is getting every ball, it’s important to be a bit more patient with your offense; work several shots, utilize more shape, and really it becomes more difficult for them to keep length on their returns. Playing at one speed (as Shap did here), your opponent is really just reflecting the ball back on the backhand wing (no thought necessary) and trying to hit the depth or to your backhand with their forehand (no thought necessary). You wind up playing your opponent into a perfect drill instructor, and well, today Shap didn’t execute at a good percentage.  \\n\\nDimitrov was struggling at times with Martin, and exchanged breaks several times until the second set tiebreaker, where he hit a perfect backhand down the line. This shot was terrible for Martin because it scored a point, but also because it was the frustrated “time to shine” Dimitrov decision that usually leads him to an error. When he makes these shots, suddenly the speedy defender with a somewhat careless offense becomes a top tier player, and he really opened up and ran away with the third set. RCB’s job here will be to keep Dimitrov close on the scoreline. There will be fatigue but RCB’s game is pretty straightforward, and he’ll only be able to hang while Dimitrov is making errors on offense. Martin’s backhand did break down, and RCB’s won’t. The problem I see here is given Dimitrov’s proclivity for defending, it’ll be tough for RCB to score even if he steals some breaks of serve. It pains me to predict Dimitrov winning against a tough defensive test, but I think fatigue/Dimitrov’s recent decent play get him through. Dimitrov in 4.\\n\\n**Bedene Tsitsipas :** Milojevic and Bedene played such a good match, it really is a shame that Milojevic just made minor errors in all the key moments, and while doing so Bedene also hit multiple lines late in the 4th set tiebreaker when it looked like the match would get level. Bedene was solid throughout and will need to be against Tsitsipas. Stefanos really was getting extra height on his serve today, and you could hear the ball bouncing in a very strange way without crowd noise. Cuevas really didn’t put up a great fight, and so while i don’t think Bedene can win, it certainly will be closer than today’s match. Cuevas made a number of errors due to the height on Tsitsipas’ shots, sending the ball long enough that I turned the match off for a good stretch of the first. Tsitsipas has been good for a week and a half now, and it should continue even though he will need to iron out his rally game during the match because Bedene tends to do very well if his opponent gives him control. Tsitsipas in 4.\\n\\n**Sonego Fritz :** Whaaaaaaaat. This is not what I expected. Sonego really gave Bublik the business, and Bublik seemed mentally fatigued, fighting hard to break back in the third only to get broken again immediately. It’s nice on tour when the top 100 kinda trade results, and Sonego will be happy with the points from this week, especially since they don’t necessarily need to end. He has some very good runs on clay in his past, and the smooth style and crisp serving do make him seem like Taylor Fritz if he had style. Fritz beat Albot, whose dismissal of Thompson appears to have been more about Thompson than Albot. Fritz and Sonego are both capable servers, and this match is another very even prospect. Because Sonego was able to break Bublik, I think he’ll return well here as well, and this hopefully gives him the edge again Fritz, whose face looks like a cat. Sonego in 4.\\n\\n**Gombos Schwartzman :** How many times must I tell the world. Gombos is the Gombosiest. After trading a pair of double break sets, Gombos’ power took over in this match, as Rodionov control of rallies was infrequent and fatigue from a long run through qualifying left him just a shade behind the pace of this match. Schwartzman enjoyed the fatigue of Lorenzo Giustino, allowing just 6 games. This is a good spot for Gombos to really see where his game is at on clay, as Diego is one of the top 10 clay talents in this event. I don’t think Gombos will go down easily, as he really does possess the kind of pace that can bother Diego. He’s unlikely to be able to bother him for a full match though, and I expect Diego to have a few service hiccoughs but come through in 3-4.\\n\\n**Wawrinka Gaston :** Who are these masked men? Stan Wawrinka gets us every year. Terrible losses, lackluster error-strewn contests, random new relationship rumours. Then halfway through a major you look around and go “oh crap he’s gonna win.” The dude looks well hungover in most situations, but the drunken monkey style worked to great effect against Koepfer, who scrambled to earn a 4th set but basically was on the defensive the entire time. I would say that the bigger story in this match is Gaston winning two rounds at a major, and the solid play he showed en route to sending Nishioka (who hasn’t won two matches in a row in a hot minute) home is of a similar level to what Koepfer offered to Wawrinka. So can he make a contest out of this? The movement and power will be there on Gaston’s side to take advantage of a lapse from Stan, but that lapse will be required. Wawrinka isn’t exactly Nadal, so I think he may take 4 sets to come through here, but I’m optimistic about the chances of Thiem and Wawrinka.  \\n\\n**Ruud Thiem :** I owe Tommy Paul an apology. Every time he serves out wide from the ad side and hits his forehand up the line it looks like it’s going to sail long, but it just never does. Him and Ruud played such aggressive tennis in this one, it reminded me of a pro racquetball match more than a claycourt tennis event. After watching these two swing for the fences and it being pretty up in the air who would win, there was a great deal of contrast in watching Thiem calmly dismiss Sock. Thiem’s precision and body control is something I really have only seen from Federer, and I think that is the type of player he will ultimately be. Even at this point, he’s already one of the most complete players on tour, and he’s still getting better.  \\n\\nThis is a good matchup for spectators, because Ruud’s abiity on clay will make for high-level rallies that Thiem will win. Thiem should have an answer for Ruud’s power with his movement, and Ruud’s backhand to backhand exchanges are likely to make Casper a bit impatient. I expect the same slice-heavy backhand strategy from Thiem, and a general lockdown style until an opportunity presents itself. Thiem beat Ruud in straight sets in an exhibition during the break, but this should be a bit closer, and if Thiem wins in straight sets, that’s a good sign that he’ll be able to get past Wawrinka. Thiem in 4.\\n\\n**Zverev Cecchinato :** Here it is. The moment I’ve been waiting for. As a somewhat experienced somewhat profitable bettor, I always find myself backing someone I have no business backing around halfway through an event. “How did I get here?” I wonder, but the tennis tour will do that to you. I think Cecchinato wins this match. Zverev was extremely lucky to edge Herbert in the previous round, and while he turned things up at the USO after early struggles, he really didn’t elevate his game in a similar way here. Herbert was the one dictating play in the bh to bh rallies, which was just strange to see, and Zverev did up the RPMs as the match progressed, but seemed to struggle to find length. If Herbert were a stronger baseliner, I believe he would have found even more opportunities to get to net. In Zverev’s defense, Herbert makes the court seem very small. It tends to turn into a table tennis game where both players are really always leaning forward ready to get into some kind of cat-and-mouse game. Is Zverev the cat though? No, there are no cats in outer space.\\n\\nCecchinato was as good as I’ve ever seen him against Londero. Londero applies pressure on every shot and really has the speed to cover the court, yet Cecchinato had responses wherever the ball went. The height and spin on Cecch’s backhand were frustratingly clever, and when he leaned into it crosscourt the ball was gone. Londero worked the forehand as much as he could but that didn’t break down either, and what I was most impressed with was Cecchinato’s ability to hit his forehand down the line to keep Londero from hitting his favorite combo crosscourt forehand/forehand up the line and approach noisily. The reason I think Cecch has a good shot here is his greatest strength against Londero was hitting the ball through the court. He seemed to be almost automatic once he had a moment to set up on a shot inside the baseline, and that was exactly the ball Herbert earned time and time again but failed to really get aggressive on. Zverev’s backhand is a good bit better than Londero and his serving can sneak him past anyone, but Londero is faster and still couldn’t play effective defense. I expect Cecchinato to win the early exchanges, and since his game thrives on controlling rallies, Zverev’s default strategy to cut down errors and outlast his opponents in the pressure moments won’t be a useful strategy.  \\n\\nIf you told me I’d be backing Cecchinato at any point in any event this year, I’d say you were crazy. Cecchinato in 4.\\n\\n**Coria Sinner :** Good ol fashioned Benoit Paire match. Coria really put this one away in the first set, as Paire served for it and Coria managed to break. Paire just isn’t willing to compartmentalize struggle, and as a frontrunner he excels but in a deep match he fades. Sinner was in full control in his contest with Bonzi, and the future really is bright for this kid. Coria will be a tough defensive test, but Sinner has shown his ability to remain consistent when playing offense, and the slower clay gives him more time to set up. Sinner in 3-4.\\n\\n**Martinez Korda :** Martinez was brilliant against Kukushkin, who really has Fognini to thank for a win on clay. Korda took advantage of the cold and slow surface to get a good confidence boosting win against John Isner, and it was refreshing not to watch a tiebreaker in an Isner match. This is an interesting contest because Korda thus far has been playing guys who aren’t really comfortable on the surface. Seppi prefers grass and Isner isn’t much on the red shtuff. Martinez though is at is best here, and he’ll be fresh. This is a great opportunity for two guys who’ve never been to the 3rd or 4th round of a major, and I think despite Korda’s solid serving and very bright future, Martinez will outwork him in this one. Martinez in 4.\\n\\n**Travaglia Nadal :** Kei Nishikori is back! While he lost a tough 5th set, he really fought hard in this one. Travaglia was up a break on him in pretty much every set and Nishikori rallied back. I don’t think any of us need to see Nishikori Nadal for the 100th time, so I’m glad Travaglia won. Nadal produced one of the funnier clips of the day, with Mackie McDonald’s underhand serve attempt getting hit clean by him. Travaglia’s forehand will keep him within distance early, but Nadal is Nadal. What happeny happen and what happeny happened. We are in the third round.  \\n\\n&#x200B;\\n\\n**YOU ARE NOW HALFWAY ... CONGRATS ON BEING HALFWAY ... THEY DIDN\\'T THINK YOU COULD DO IT ... BUT WHAT DO THEY KNOW ... NOT AS MUCH AS YOU, WHO IS HALFWAY ...  THE BUDDHA ONCE SAID \"GOETH HALFWAY AND YOU CAN SEE THE ELM TREE GLISTEN, BUT READETH THE WHOLE POST AND YOU\\'LL FIND WHAT YOU\\'VE BEEN MISSIN\"**\\n\\n&#x200B;\\n\\n**WTA SINGLES** \\n\\n&#x200B;\\n\\n**Halep Anisimova :** It’s not often you get an opportunity for revenge so quickly and so identically, but Halep has one here. With colder conditions and a slower ball, Halep’s defense will be a bit more useful against Anisimova’s attack. Begu was a good test for Halep, and she weathered all the offensive storms. Anisimova doesn’t serve anywhere near as well as Begu, but she hits a much cleaner backhand and when she plays well tends to do so for longer stretches. Anisimova was really crisp against Pera, but she hasn’t been having the best year, so a repeat performance isn’t the most likely outcome here. Halep looked great in Rome and for the last week and a half no one has really looked like they were going to beat here. I’d avoid this one like the plague (though ppl seem to have stopped avoiding plagues) as a bettor because the -460 line for Halep is wildly inflated and Anisimova is looking good but a question mark against a major step up in competition. Halep in 3.\\n\\n**Bouchard Swiatek :** Bouchard had a really tough second round, the kind of situation I usually expect her to lose in. Gavrilova is a great defender and moves the ball well. Her game is designed to beat offensive players who struggle with errors on the move. What’s encouraging about Bouchard’s run is that she has improved during it, and the level hasn’t just dropped off. If she remains at this quality, she’ll be back around the top 50 in the world by the end of next year. Swiatek, prior to an ankle injury, was looking like one of the new top players on tour. Since returning to the tour she’s been subpar, and really the threat of her rising to the top of her game again has been a very boy-who-cried-vulf situation (btw I know it’s spelled wolf but c’mon vulf sounds cooler … plus imagine a pudgy little boy running thru the village shouting “im being chased by vulfs!” … it’s better, trust me). What was I talking about? Right, vulfs. Anyway a vulf is a dog, but bigger. Basically keep picturing a dog and make it bigger and bigger until your brain says “haha that’s too big make it smaller”. That’s a vulf. They’re real big and they eat small animals and they steal vampire girlfriends and it’s just bad business. Swiatek in 2.\\n\\n**Trevisan Sakkari :** Few people were more genuinely happy with their second round win than Marta Trevisan. After benefitting from an injury withdrawal from Giorgi, she capitalized on a late set of blunders from Gauff to get to the third round. Gauff’s conservative style seemed to be the right formula for clay against Jabeur and Konta but Trevisan doesn’t really look to play such aggressive offense, and these two generally had rallies that ended in errors rather than winners. Gauff really had this match put away a few times in the third but couldn’t hold serve. She seemed to amp up the power at the wrong times, and while she’s still very young, there’s an immediate frustration she displays that’s something her coaches will want to work on. Emotions are natural, and you won’t turn them off, but visible outbursts and body language is something that helps an opponent when they’re feeling fatigued. Trevisan was watching Gauff after she won rallies and seemed to grow in confidence as she saw her growing dejected.  \\n\\nSakkari held off Rakhimova and is likely to have an edge on Trevisan. Trevisan is lefty, covers the court well, and has a very consistent forehand. She moves to net well, and serves to good effect, but most of this is negated by Sakkari’s defending. This is one where I do expect Trevisan to be somewhat “satisfied with her work” in the previous round. Sakkari in 2.\\n\\n**Siniakova Bertens :** Siniakova has had the best two weeks of the past two years in this clay season, and she has a great opportunity here. Beating Pavs in straight sets means you played well, and remained consistent. She’s a very good test to see if your offense or defense are fake. Bertens and Errani played a marathon that saw Bertens leave the court in a wheelchair as her legs cramped on her. She also had cramping issues in her racquet hand, though Errani didn’t seem to believe any of this. The odds of Bertens recovering fully in a fresh return to tour that has seemed tentative at times even in the first rounds is somewhat low. I find that issues with cramps don’t clear up fully within an event, but Bertens will be getting an IV of fluids and that really can turn things around quickly for the ‘ol bod. Fun fact, Kiki Bertens owns the largest collection of buttons in all of Northern Europe, but if you ask her to see them, she’ll deny it.  \\n\\nI think Siniakova has a good chance her, but if Bertens were 100% she’d have a small edge. Pavs and Bertens just present a very similar challenge and I think Siniakova has played the right combination of matches coming into this. Since Bertens always goes to three sets, I think it’ll take that many for fatigue to become an issue. Siniakova in 3.\\n\\n**Svitolina Alexandrova :** I only caught half of the Svitolina Zarazua match because I became concerned that I might be developing mutant powers. All’s clear though, as my dr indicated Zarazua was just wearing a see-through shirt. Svitolina hasn’t lost in a week and a half, and while her game lapsed big time in the second set, it was more about Zarazua’s level going up at the same time. Alexandrova can play the type of offense you need to to beat Svitolina, but for a whole match it is somewhat unlikely. Svitolina is play good clay, and her and Monfils cringily trying to become tennis personalities when they are already tennis personalities is not an exciting cycle to watch, so I hope she keeps winning on court. Svitolina in 2.\\n\\n**Garcia Mertens :** Garcia, who does not seem to make facial expressions, has been sleepwalking since 2017. Since it is dangerous to wake someone in this state, they continue to allow her to play tennis, and damn if she hasn’t gotten good at it. Beating Kontaveit and Sasnovich aren’t her most high-profile wins, but both matches are certainly up there for the best stretch of play she’s had in over a year. As usual in tennis tournaments, your reward for good play is a match against someone tougher. Mertens is probably the closest to Azarenka in terms of precision/error free play, and really only in the 2nd set of matches against power players does she start to lose range on her forehand a bit. It happened against Andreescu when she was on tour, and it may happen here, since Garcia swings for the fences. A third set on clay is somewhat of a tossup between these two, and while I give the edge to Mertens, how many rounds does Garcia have to play great in before we believe it? I didn’t love the late second set win against Kanepi that much. Mertens tentatively in 3.\\n\\n**Schmiedlova Podoroska :** Thank you ladies for saving us from a noiiiiiiiisy ass affair. I have loved Azarenka’s play the last few weeks and she is a gem of a human, but her and Putintseva is a cacophony. If you don’t know what that is, it is the latin phrase for a gaggle of parrots fighting over control of the radio in a stolen car they’re driving to Mulan, Italy and I know that’s not how it’s spelled but they’re parrots ok they’re doing their best also Disney pays me 6 bucks for each time I say Mulan in my writeup. Schmiedlova is playing great out of nowhere, but books saw this coming. She was slated as a favorite against Venus Williams after not many wins on tour and she didn’t just beat Azarenka, she dominated her.  \\n\\nPodoroska dished out a similar display against Putintseva. There were some very good racquet smashes in this one and the “lose the first win the second” method for Yulia has resulted in players really folding in the 3rd set. Somehow, Podoroska didn’t, and it’s been her trademark throughout this event to continue to exert pressure and play offense regardless of the situation. It remains to be seen if her game translates to hardcourt, but she’ll definitely have a chance against Schmiedlova here. Hard to see this going to anyone in quick fashion. Podoroska in 3.\\n\\n**Krejcikova Pironkova :** Well well well. Pironkova appears to have benefitted from an ankle injury to Serena Williams and the tennis forum seems to have suffered from the undending debate over whether that’s real or not. It did not look like she was going to win this event, so it was a prudent move to withdraw to focus on her health. Krejcikova defeated her countrywoman in 3 good quality sets, and is a similar test for Pironkova here. Pironkova doesn’t really excel on clay, but Krejcikova losing a set to Strycova (who plays a less sharp brand of offense than Pironkova) isn’t the best of signs. Her best results are on clay, so this should be tight, and if I’m hesitant to make bold predictions here it’s because these are really matchups that are new and very tight. What I can tell you though, via my careful research, is that Tsvetana runs a chain of pizzerias in her home country called Pironkova’s Pizza and if you order the Pironkova from the menu she hides in the box and pops out and hits you with an inside out backhand when you open it. She also may or may not juggle motorcycles. You decide. Pironkova in 3.\\n\\n**Sabalenka Jabeur :** Great win for Sabalenka, and although she was tested often in the 1st set tiebreaker she didn’t miss anywhere near as much as she classically does in this one. That’ll have her a a solid favorite against Jabeur, who needed every moment of her match against Hibino to come through. The Japenese star really had her chances, as the windy conditions left Jabeur sending a number of dropshots well short of the net. Her power and grace were a consistent factor though, and it almost looked like impatience was the real enemy she was facing. Sabalenka serves better, and is in better form at the moment. I think Jabeur sees the exit here as she just wasn’t terribly sharp against Hibino, and Aryna was probably the best we’ve seen her today. Sabalenka in 2.\\n\\n**Collins Muguruza :** TAuson noooooooo. Collins has really played herself into form in this event, and has a good chance against Muguruza, simply because everyone always has a good chance against Muguruza. Pliskova led early but couldn’t find her serving today, and her defense is just not up to tour level. She is the Feliciano Lopez of the WTA in many ways. She is large, beautiful, lefty, and does not get past the 3rd round.  \\n\\nMuguruza is a clear favorite here, but Collins has the kind of ballstriking that can make her a threat against any opponent. Mugu on clay playing well is tough to pick against, but I expect one of two things here. One, Muguruza breaks often and heads into the 4th looking like the favorite to meet Halep in the finals (I don’t expect this). Two, Collins bullies her way into rallies with Muguruza and carries momentum for multiple stretches, earning an implosion and a chance at a final set (I expect this). Another match where two players are both in great form with not much to clearly point to a winner, but as they say in France, expecto patronum. Collins in 3.\\n\\n**Ferro Tig :** What a tenacious player Ferro is. Rybakina really fought hard in this and Ferro made the errors that cost you a match. The big moments where you go for the big shots and miss. And then the next point came and she went for a bigger shot and made it. It is refreshing to see someone so offensive yet so casual on the court, casual in the sense that she doesn’t seem like missing is an issue, more of a temporary setback. Tig was the better player today, and though many games went to duece she was the one whose numba turned green at the end of the day. I really expect Ferro to continue her excellent play here, and while Tig’s shot tolerance is solid and her play is at an all-time high after a title win in Constantinople, Ferro’s free swinging should get her a lot of opportunities. Ferro in 2.\\n\\n**Bara Kenin :** Kinda anticlimactic end to the Bara match, with Van Uytvanck getting her pulse checked after a lopsided first set and withdrawing a while later. I hope she’s ok, but it didn’t really affect the outcome here as Bara was playing some excellent tennis and AVU is really more of an indoor/grass court player. Kenin lost the first as I expected since she’s been less than stellar on clay, but then found a form that looked reminiscent of her title run at the AO. She was very aggressive and made her shots which was the big difference late. Bara is a bit better than Bogdan but a similar test, and if Kenin continues to thrive then she’ll win this. It’s another good match to see where a title threat’s game really is. Bara being a qualifier has to come in a bit more fatigued, but her match with AVU wasn’t much work at all. Bara likely beats Bogdan, so this may be another 3 setter. If it’s gross that I’m predicting so many tight matches, it’s also wonderful that there are so many players ballin right now on the tour. Bara in 3.\\n\\n**Kvitova Fernandez :** Kvitova quietly (except when she swings) is moving through this draw. Clay’s not her best, but in the big events she seems to become a very tough out. Fernandez gave the same trouble to Hercog as her previous opponent, and it’s pretty clear that her consistency when defending the baseline is a problem that not everyone has the power to hit through. I guess, Kvitova does though. It’ll come down to whether Kvitova’s serving and power break down Fernandez’ defense. I don’t really think it will, but Fernandez hasn’t shown the ability to take apart her opponents offense until late in the match, so I expect this to be Kvitova in 2, or Fernandez in 3,\\n\\n**Burel Zhang :** Another classic Burel Zhang 3rd round. Tennis is so predictable. I got a chance to catch the whole match today, and Burel really is a nice player. Juvan as well really was solid, but so often losing a tiebreaker at the end of a high-quality set spells disaster and a drop in level in the next one. Since both are young players, this was compounded a bit and Burel’s excitement spurred her on. Seeing so many prospects doing well is great for the tour, and Burel doing this at her home slam is really cool. Alize Cornet, originally from Whoville, now represents France. She had a long day, as Zhang was constantly taking the lead and even when broken back kept her solid ball movement up. Cornet is used to outlasting her opponents in these rallies, but today she was on the losing end.  \\n\\nBurel has a chance here, as Zhang is not the sort to just hit you off the court. Very hard to say with the limited info on Burel if she can get through here, as there may have been an added comfort level playing as a big underdog against another young player. Zhang in 2 most likely, but it’s hard to count Burel out as she’s come through twice as a considerable underdog.\\n\\n**Martic Siegemund :** Why win in two when you can win in threeeeeee? \\\\*taps head\\\\* Martic barely squeaked by her match, and I am probably going to predict her losing as soon as she plays a solid baseliner. The problem is, this section of the draw has really opened up for her. Siegemund has stolen two matches in a row after losing a big stretch of games early on, and while she moves the ball extremely well, she doesn’t hit with the type of power that will remove Martic. I like Fernandez, Kvitova, Kenin, Bara, Ferro, Collins, Muguruza, Sabalenka, and really most of the draw against Martic, but not Siegemund. Martic’s offense differs greatly from Goerges and Mladenovic in that she keeps a steady game the entire match, and keeps her unforced errors low. Siegemund will have to work very hard to earn points and won’t be able to afford the kind of back and forth stretches that she’s had thus far. Martic in 2.\\n\\n**Badosa Ostapenko :** Major upset today for anyone who actually thinks Tennis Channel announcers talk honestly about American players. Badosa played well and Sloane fought pretty hard also which was nice to see. Ostapenko took advantage of a lackluster Pliskova and struck a ton of winners en route to a third round. With Cecchinato and Ostapenko both ballin I’m happy I’ve entered this time loop and am looking forward to the section where Andreescu returns and Barty wins everything else. Also, we get skinny Jack Sock!  \\n\\nGibert plays a really smart clay game and it’s a problem for Ostapenko on a regular day, but Ostapenko has hinted at brilliance the past few weeks and it will be a matter of winners vs unforced errors to see who advances. If more winners, Ostapenko in 2. If more unforced errors, probably Gibert in 3.\\n\\n&#x200B;\\n\\nPS Pablo Andujar lives in a magical cave with mystical jaguars, Goffin is a magical elf and only loses to not arouse suspicion, and Rublev is an angry broccoli sent from the planet blllyyyyatttttt', comments=['SwgohSpartan (upvotes: 15): Really looking forward to a potential thiem wawrinka r16', 'littlestitious247 (upvotes: 10): That Zverev match take! I picked Sascha to win the upcoming match in my bracket and I really debated that choice, now I debate it more.', \"vk2499 (upvotes: 11): The women's draw right now is the most random set of players, impossible to predict.\"]), Rec(title='Polish restaurant named world’s best Neapolitan pizzeria', description='The Zielona Górka restaurant, which lies at the heart of the small city near Łódź in central Poland, has been named the best at making Neapolitan-style pizza in a survey of over a thousand pizzeria owners across the world. It’s only the second time the Best AVPN Pizzeria award has been handed to a company outside Naples.', comments=['MOCK-lowicz (upvotes: 264): Overcrowded with tourists, Noisy, Dirty, High crime rate Naples??\\nChoose wisely and come do Pabianice, known as PabiaNICE. Pizza, cyce, Pabianice.', 'ParadoxSepi (upvotes: 146): [Italians rn](https://ih1.redbubble.net/image.1232412554.8315/bg,f8f8f8-flat,750x,075,f-pad,750x1000,f8f8f8.jpg)', \"totse_losername (upvotes: 34): Well, you Łódźn't expect that. \\n\\nNice!\"])]\n"
     ]
    }
   ],
   "source": [
    "results = search(**out.tool_input)\n",
    "print(results)"
   ]
  },
  {
   "cell_type": "markdown",
   "metadata": {
    "id": "lXlCzyyF61JP"
   },
   "source": [
    "We now have our results! Each of these is pretty high level, there is not much detail as they only represent search page result descriptions. So now, we must decide which links look most promising — we can do that by passing these results onwards to another LLM that decides which result we should get more information from."
   ]
  },
  {
   "cell_type": "markdown",
   "metadata": {
    "id": "ar33Elnm61JP"
   },
   "source": [
    "### Graph Nodes"
   ]
  },
  {
   "cell_type": "markdown",
   "metadata": {
    "id": "5le5qmi061JP"
   },
   "source": [
    "We have defined the different logical components of our graph, but we need to execute them in a langgraph-friendly manner — for that they must consume our `AgentState` and return modifications to that state. We will do this for all of our components via three functions:\n",
    "\n",
    "* `run_oracle` will handle running our oracle LLM.\n",
    "* `router` will handle the *routing* between our oracle and tools.\n",
    "* `run_tool` will handle running our tool functions."
   ]
  },
  {
   "cell_type": "code",
   "execution_count": 28,
   "metadata": {
    "id": "RfYoL_Mu61JP"
   },
   "outputs": [],
   "source": [
    "def run_oracle(state: TypedDict):\n",
    "    print(\"run_oracle\")\n",
    "    chat_history = state[\"chat_history\"]\n",
    "    out = call_llm(\n",
    "        user_input=state[\"input\"],\n",
    "        chat_history=chat_history,\n",
    "        intermediate_steps=state[\"intermediate_steps\"]\n",
    "    )\n",
    "    return {\n",
    "        \"intermediate_steps\": [out]\n",
    "    }\n",
    "\n",
    "def router(state: TypedDict):\n",
    "    print(\"router\")\n",
    "    # return the tool name to use\n",
    "    if isinstance(state[\"intermediate_steps\"], list):\n",
    "        return state[\"intermediate_steps\"][-1].tool_name\n",
    "    else:\n",
    "        # if we output bad format go to final answer\n",
    "        print(\"Router invalid format\")\n",
    "        return \"final_answer\"\n",
    "\n",
    "# we use this to map tool names to tool functions\n",
    "tool_str_to_func = {\n",
    "    \"search\": search,\n",
    "    \"final_answer\": final_answer\n",
    "}\n",
    "\n",
    "def run_tool(state: TypedDict):\n",
    "    # use this as helper function so we repeat less code\n",
    "    tool_name = state[\"intermediate_steps\"][-1].tool_name\n",
    "    tool_args = state[\"intermediate_steps\"][-1].tool_input\n",
    "    print(f\"run_tool | {tool_name}.invoke(input={tool_args})\")\n",
    "    # run tool\n",
    "    out = tool_str_to_func[tool_name](**tool_args)\n",
    "    action_out = AgentAction(\n",
    "        tool_name=tool_name,\n",
    "        tool_input=tool_args,\n",
    "        tool_output=str(out),\n",
    "    )\n",
    "    if tool_name == \"final_answer\":\n",
    "        return {\"output\": out}\n",
    "    else:\n",
    "        return {\"intermediate_steps\": [action_out]}"
   ]
  },
  {
   "cell_type": "markdown",
   "metadata": {
    "id": "teS0ksA661JP"
   },
   "source": [
    "We construct our graph using `add_nodes`, `add_edge`, and `add_conditional_edges`."
   ]
  },
  {
   "cell_type": "code",
   "execution_count": 29,
   "metadata": {
    "id": "3UOITSAx61JP"
   },
   "outputs": [],
   "source": [
    "from langgraph.graph import StateGraph, END\n",
    "\n",
    "graph = StateGraph(AgentState)\n",
    "\n",
    "graph.add_node(\"oracle\", run_oracle)\n",
    "graph.add_node(\"search\", run_tool)\n",
    "graph.add_node(\"final_answer\", run_tool)\n",
    "\n",
    "graph.set_entry_point(\"oracle\")  # insert query here\n",
    "\n",
    "graph.add_conditional_edges(  # - - - >\n",
    "    source=\"oracle\",  # where in graph to start\n",
    "    path=router,  # function to determine which node is called\n",
    ")\n",
    "\n",
    "# create edges from each tool back to the oracle\n",
    "for tool_obj in [search_schema, final_answer_schema]:\n",
    "    tool_name = tool_obj[\"function\"][\"name\"]\n",
    "    if tool_name != \"final_answer\":\n",
    "        graph.add_edge(tool_name, \"oracle\")  # ————————>\n",
    "\n",
    "# if anything goes to final answer, it must then move to END\n",
    "graph.add_edge(\"final_answer\", END)\n",
    "\n",
    "runnable = graph.compile()"
   ]
  },
  {
   "cell_type": "markdown",
   "metadata": {
    "id": "rjTMcyg161JP"
   },
   "source": [
    "To view the graph we can generate a mermaid graph like so:"
   ]
  },
  {
   "cell_type": "code",
   "execution_count": 31,
   "metadata": {
    "id": "ywDhJISD61JP",
    "outputId": "f4498241-3a0b-4864-95d0-b634e421fb99"
   },
   "outputs": [
    {
     "name": "stderr",
     "output_type": "stream",
     "text": [
      "[INFO] Starting Chromium download.\n"
     ]
    },
    {
     "ename": "OSError",
     "evalue": "Chromium downloadable not found at https://storage.googleapis.com/chromium-browser-snapshots/Win_x64/1181205/chrome-win.zip: Received <?xml version='1.0' encoding='UTF-8'?><Error><Code>NoSuchKey</Code><Message>The specified key does not exist.</Message><Details>No such object: chromium-browser-snapshots/Win_x64/1181205/chrome-win.zip</Details></Error>.\n",
     "output_type": "error",
     "traceback": [
      "\u001b[1;31m---------------------------------------------------------------------------\u001b[0m",
      "\u001b[1;31mOSError\u001b[0m                                   Traceback (most recent call last)",
      "Cell \u001b[1;32mIn[31], line 9\u001b[0m\n\u001b[0;32m      3\u001b[0m \u001b[38;5;28;01mfrom\u001b[39;00m \u001b[38;5;21;01mlangchain_core\u001b[39;00m\u001b[38;5;21;01m.\u001b[39;00m\u001b[38;5;21;01mrunnables\u001b[39;00m\u001b[38;5;21;01m.\u001b[39;00m\u001b[38;5;21;01mgraph\u001b[39;00m \u001b[38;5;28;01mimport\u001b[39;00m CurveStyle, MermaidDrawMethod, NodeStyles\n\u001b[0;32m      5\u001b[0m nest_asyncio\u001b[38;5;241m.\u001b[39mapply()  \u001b[38;5;66;03m# Required for Jupyter Notebook to run async functions\u001b[39;00m\n\u001b[0;32m      7\u001b[0m display(\n\u001b[0;32m      8\u001b[0m     Image(\n\u001b[1;32m----> 9\u001b[0m         \u001b[43mrunnable\u001b[49m\u001b[38;5;241;43m.\u001b[39;49m\u001b[43mget_graph\u001b[49m\u001b[43m(\u001b[49m\u001b[43m)\u001b[49m\u001b[38;5;241;43m.\u001b[39;49m\u001b[43mdraw_mermaid_png\u001b[49m\u001b[43m(\u001b[49m\n\u001b[0;32m     10\u001b[0m \u001b[43m            \u001b[49m\u001b[43mcurve_style\u001b[49m\u001b[38;5;241;43m=\u001b[39;49m\u001b[43mCurveStyle\u001b[49m\u001b[38;5;241;43m.\u001b[39;49m\u001b[43mLINEAR\u001b[49m\u001b[43m,\u001b[49m\n\u001b[0;32m     11\u001b[0m \u001b[43m            \u001b[49m\u001b[43mnode_colors\u001b[49m\u001b[38;5;241;43m=\u001b[39;49m\u001b[43mNodeStyles\u001b[49m\u001b[43m(\u001b[49m\u001b[43mfirst\u001b[49m\u001b[38;5;241;43m=\u001b[39;49m\u001b[38;5;124;43m\"\u001b[39;49m\u001b[38;5;124;43m#ffdfba\u001b[39;49m\u001b[38;5;124;43m\"\u001b[39;49m\u001b[43m,\u001b[49m\u001b[43m \u001b[49m\u001b[43mlast\u001b[49m\u001b[38;5;241;43m=\u001b[39;49m\u001b[38;5;124;43m\"\u001b[39;49m\u001b[38;5;124;43m#baffc9\u001b[39;49m\u001b[38;5;124;43m\"\u001b[39;49m\u001b[43m,\u001b[49m\u001b[43m \u001b[49m\u001b[43mdefault\u001b[49m\u001b[38;5;241;43m=\u001b[39;49m\u001b[38;5;124;43m\"\u001b[39;49m\u001b[38;5;124;43m#fad7de\u001b[39;49m\u001b[38;5;124;43m\"\u001b[39;49m\u001b[43m)\u001b[49m\u001b[43m,\u001b[49m\n\u001b[0;32m     12\u001b[0m \u001b[43m            \u001b[49m\u001b[43mwrap_label_n_words\u001b[49m\u001b[38;5;241;43m=\u001b[39;49m\u001b[38;5;241;43m9\u001b[39;49m\u001b[43m,\u001b[49m\n\u001b[0;32m     13\u001b[0m \u001b[43m            \u001b[49m\u001b[43moutput_file_path\u001b[49m\u001b[38;5;241;43m=\u001b[39;49m\u001b[38;5;28;43;01mNone\u001b[39;49;00m\u001b[43m,\u001b[49m\n\u001b[0;32m     14\u001b[0m \u001b[43m            \u001b[49m\u001b[43mdraw_method\u001b[49m\u001b[38;5;241;43m=\u001b[39;49m\u001b[43mMermaidDrawMethod\u001b[49m\u001b[38;5;241;43m.\u001b[39;49m\u001b[43mPYPPETEER\u001b[49m\u001b[43m,\u001b[49m\n\u001b[0;32m     15\u001b[0m \u001b[43m            \u001b[49m\u001b[43mbackground_color\u001b[49m\u001b[38;5;241;43m=\u001b[39;49m\u001b[38;5;124;43m\"\u001b[39;49m\u001b[38;5;124;43mwhite\u001b[39;49m\u001b[38;5;124;43m\"\u001b[39;49m\u001b[43m,\u001b[49m\n\u001b[0;32m     16\u001b[0m \u001b[43m            \u001b[49m\u001b[43mpadding\u001b[49m\u001b[38;5;241;43m=\u001b[39;49m\u001b[38;5;241;43m10\u001b[39;49m\u001b[43m,\u001b[49m\n\u001b[0;32m     17\u001b[0m \u001b[43m        \u001b[49m\u001b[43m)\u001b[49m\n\u001b[0;32m     18\u001b[0m     )\n\u001b[0;32m     19\u001b[0m )\n",
      "File \u001b[1;32m~\\anaconda3\\envs\\pytorch_gpu\\lib\\site-packages\\langchain_core\\runnables\\graph.py:685\u001b[0m, in \u001b[0;36mGraph.draw_mermaid_png\u001b[1;34m(self, curve_style, node_colors, wrap_label_n_words, output_file_path, draw_method, background_color, padding, max_retries, retry_delay, frontmatter_config)\u001b[0m\n\u001b[0;32m    677\u001b[0m \u001b[38;5;28;01mfrom\u001b[39;00m \u001b[38;5;21;01mlangchain_core\u001b[39;00m\u001b[38;5;21;01m.\u001b[39;00m\u001b[38;5;21;01mrunnables\u001b[39;00m\u001b[38;5;21;01m.\u001b[39;00m\u001b[38;5;21;01mgraph_mermaid\u001b[39;00m \u001b[38;5;28;01mimport\u001b[39;00m draw_mermaid_png\n\u001b[0;32m    679\u001b[0m mermaid_syntax \u001b[38;5;241m=\u001b[39m \u001b[38;5;28mself\u001b[39m\u001b[38;5;241m.\u001b[39mdraw_mermaid(\n\u001b[0;32m    680\u001b[0m     curve_style\u001b[38;5;241m=\u001b[39mcurve_style,\n\u001b[0;32m    681\u001b[0m     node_colors\u001b[38;5;241m=\u001b[39mnode_colors,\n\u001b[0;32m    682\u001b[0m     wrap_label_n_words\u001b[38;5;241m=\u001b[39mwrap_label_n_words,\n\u001b[0;32m    683\u001b[0m     frontmatter_config\u001b[38;5;241m=\u001b[39mfrontmatter_config,\n\u001b[0;32m    684\u001b[0m )\n\u001b[1;32m--> 685\u001b[0m \u001b[38;5;28;01mreturn\u001b[39;00m \u001b[43mdraw_mermaid_png\u001b[49m\u001b[43m(\u001b[49m\n\u001b[0;32m    686\u001b[0m \u001b[43m    \u001b[49m\u001b[43mmermaid_syntax\u001b[49m\u001b[38;5;241;43m=\u001b[39;49m\u001b[43mmermaid_syntax\u001b[49m\u001b[43m,\u001b[49m\n\u001b[0;32m    687\u001b[0m \u001b[43m    \u001b[49m\u001b[43moutput_file_path\u001b[49m\u001b[38;5;241;43m=\u001b[39;49m\u001b[43moutput_file_path\u001b[49m\u001b[43m,\u001b[49m\n\u001b[0;32m    688\u001b[0m \u001b[43m    \u001b[49m\u001b[43mdraw_method\u001b[49m\u001b[38;5;241;43m=\u001b[39;49m\u001b[43mdraw_method\u001b[49m\u001b[43m,\u001b[49m\n\u001b[0;32m    689\u001b[0m \u001b[43m    \u001b[49m\u001b[43mbackground_color\u001b[49m\u001b[38;5;241;43m=\u001b[39;49m\u001b[43mbackground_color\u001b[49m\u001b[43m,\u001b[49m\n\u001b[0;32m    690\u001b[0m \u001b[43m    \u001b[49m\u001b[43mpadding\u001b[49m\u001b[38;5;241;43m=\u001b[39;49m\u001b[43mpadding\u001b[49m\u001b[43m,\u001b[49m\n\u001b[0;32m    691\u001b[0m \u001b[43m    \u001b[49m\u001b[43mmax_retries\u001b[49m\u001b[38;5;241;43m=\u001b[39;49m\u001b[43mmax_retries\u001b[49m\u001b[43m,\u001b[49m\n\u001b[0;32m    692\u001b[0m \u001b[43m    \u001b[49m\u001b[43mretry_delay\u001b[49m\u001b[38;5;241;43m=\u001b[39;49m\u001b[43mretry_delay\u001b[49m\u001b[43m,\u001b[49m\n\u001b[0;32m    693\u001b[0m \u001b[43m\u001b[49m\u001b[43m)\u001b[49m\n",
      "File \u001b[1;32m~\\anaconda3\\envs\\pytorch_gpu\\lib\\site-packages\\langchain_core\\runnables\\graph_mermaid.py:287\u001b[0m, in \u001b[0;36mdraw_mermaid_png\u001b[1;34m(mermaid_syntax, output_file_path, draw_method, background_color, padding, max_retries, retry_delay)\u001b[0m\n\u001b[0;32m    284\u001b[0m \u001b[38;5;28;01mif\u001b[39;00m draw_method \u001b[38;5;241m==\u001b[39m MermaidDrawMethod\u001b[38;5;241m.\u001b[39mPYPPETEER:\n\u001b[0;32m    285\u001b[0m     \u001b[38;5;28;01mimport\u001b[39;00m \u001b[38;5;21;01masyncio\u001b[39;00m\n\u001b[1;32m--> 287\u001b[0m     img_bytes \u001b[38;5;241m=\u001b[39m \u001b[43masyncio\u001b[49m\u001b[38;5;241;43m.\u001b[39;49m\u001b[43mrun\u001b[49m\u001b[43m(\u001b[49m\n\u001b[0;32m    288\u001b[0m \u001b[43m        \u001b[49m\u001b[43m_render_mermaid_using_pyppeteer\u001b[49m\u001b[43m(\u001b[49m\n\u001b[0;32m    289\u001b[0m \u001b[43m            \u001b[49m\u001b[43mmermaid_syntax\u001b[49m\u001b[43m,\u001b[49m\u001b[43m \u001b[49m\u001b[43moutput_file_path\u001b[49m\u001b[43m,\u001b[49m\u001b[43m \u001b[49m\u001b[43mbackground_color\u001b[49m\u001b[43m,\u001b[49m\u001b[43m \u001b[49m\u001b[43mpadding\u001b[49m\n\u001b[0;32m    290\u001b[0m \u001b[43m        \u001b[49m\u001b[43m)\u001b[49m\n\u001b[0;32m    291\u001b[0m \u001b[43m    \u001b[49m\u001b[43m)\u001b[49m\n\u001b[0;32m    292\u001b[0m \u001b[38;5;28;01melif\u001b[39;00m draw_method \u001b[38;5;241m==\u001b[39m MermaidDrawMethod\u001b[38;5;241m.\u001b[39mAPI:\n\u001b[0;32m    293\u001b[0m     img_bytes \u001b[38;5;241m=\u001b[39m _render_mermaid_using_api(\n\u001b[0;32m    294\u001b[0m         mermaid_syntax,\n\u001b[0;32m    295\u001b[0m         output_file_path\u001b[38;5;241m=\u001b[39moutput_file_path,\n\u001b[1;32m   (...)\u001b[0m\n\u001b[0;32m    298\u001b[0m         retry_delay\u001b[38;5;241m=\u001b[39mretry_delay,\n\u001b[0;32m    299\u001b[0m     )\n",
      "File \u001b[1;32m~\\anaconda3\\envs\\pytorch_gpu\\lib\\site-packages\\nest_asyncio.py:30\u001b[0m, in \u001b[0;36m_patch_asyncio.<locals>.run\u001b[1;34m(main, debug)\u001b[0m\n\u001b[0;32m     28\u001b[0m task \u001b[38;5;241m=\u001b[39m asyncio\u001b[38;5;241m.\u001b[39mensure_future(main)\n\u001b[0;32m     29\u001b[0m \u001b[38;5;28;01mtry\u001b[39;00m:\n\u001b[1;32m---> 30\u001b[0m     \u001b[38;5;28;01mreturn\u001b[39;00m \u001b[43mloop\u001b[49m\u001b[38;5;241;43m.\u001b[39;49m\u001b[43mrun_until_complete\u001b[49m\u001b[43m(\u001b[49m\u001b[43mtask\u001b[49m\u001b[43m)\u001b[49m\n\u001b[0;32m     31\u001b[0m \u001b[38;5;28;01mfinally\u001b[39;00m:\n\u001b[0;32m     32\u001b[0m     \u001b[38;5;28;01mif\u001b[39;00m \u001b[38;5;129;01mnot\u001b[39;00m task\u001b[38;5;241m.\u001b[39mdone():\n",
      "File \u001b[1;32m~\\anaconda3\\envs\\pytorch_gpu\\lib\\site-packages\\nest_asyncio.py:98\u001b[0m, in \u001b[0;36m_patch_loop.<locals>.run_until_complete\u001b[1;34m(self, future)\u001b[0m\n\u001b[0;32m     95\u001b[0m \u001b[38;5;28;01mif\u001b[39;00m \u001b[38;5;129;01mnot\u001b[39;00m f\u001b[38;5;241m.\u001b[39mdone():\n\u001b[0;32m     96\u001b[0m     \u001b[38;5;28;01mraise\u001b[39;00m \u001b[38;5;167;01mRuntimeError\u001b[39;00m(\n\u001b[0;32m     97\u001b[0m         \u001b[38;5;124m'\u001b[39m\u001b[38;5;124mEvent loop stopped before Future completed.\u001b[39m\u001b[38;5;124m'\u001b[39m)\n\u001b[1;32m---> 98\u001b[0m \u001b[38;5;28;01mreturn\u001b[39;00m \u001b[43mf\u001b[49m\u001b[38;5;241;43m.\u001b[39;49m\u001b[43mresult\u001b[49m\u001b[43m(\u001b[49m\u001b[43m)\u001b[49m\n",
      "File \u001b[1;32m~\\anaconda3\\envs\\pytorch_gpu\\lib\\asyncio\\futures.py:201\u001b[0m, in \u001b[0;36mFuture.result\u001b[1;34m(self)\u001b[0m\n\u001b[0;32m    199\u001b[0m \u001b[38;5;28mself\u001b[39m\u001b[38;5;241m.\u001b[39m__log_traceback \u001b[38;5;241m=\u001b[39m \u001b[38;5;28;01mFalse\u001b[39;00m\n\u001b[0;32m    200\u001b[0m \u001b[38;5;28;01mif\u001b[39;00m \u001b[38;5;28mself\u001b[39m\u001b[38;5;241m.\u001b[39m_exception \u001b[38;5;129;01mis\u001b[39;00m \u001b[38;5;129;01mnot\u001b[39;00m \u001b[38;5;28;01mNone\u001b[39;00m:\n\u001b[1;32m--> 201\u001b[0m     \u001b[38;5;28;01mraise\u001b[39;00m \u001b[38;5;28mself\u001b[39m\u001b[38;5;241m.\u001b[39m_exception\n\u001b[0;32m    202\u001b[0m \u001b[38;5;28;01mreturn\u001b[39;00m \u001b[38;5;28mself\u001b[39m\u001b[38;5;241m.\u001b[39m_result\n",
      "File \u001b[1;32m~\\anaconda3\\envs\\pytorch_gpu\\lib\\asyncio\\tasks.py:256\u001b[0m, in \u001b[0;36mTask.__step\u001b[1;34m(***failed resolving arguments***)\u001b[0m\n\u001b[0;32m    252\u001b[0m \u001b[38;5;28;01mtry\u001b[39;00m:\n\u001b[0;32m    253\u001b[0m     \u001b[38;5;28;01mif\u001b[39;00m exc \u001b[38;5;129;01mis\u001b[39;00m \u001b[38;5;28;01mNone\u001b[39;00m:\n\u001b[0;32m    254\u001b[0m         \u001b[38;5;66;03m# We use the `send` method directly, because coroutines\u001b[39;00m\n\u001b[0;32m    255\u001b[0m         \u001b[38;5;66;03m# don't have `__iter__` and `__next__` methods.\u001b[39;00m\n\u001b[1;32m--> 256\u001b[0m         result \u001b[38;5;241m=\u001b[39m \u001b[43mcoro\u001b[49m\u001b[38;5;241;43m.\u001b[39;49m\u001b[43msend\u001b[49m\u001b[43m(\u001b[49m\u001b[38;5;28;43;01mNone\u001b[39;49;00m\u001b[43m)\u001b[49m\n\u001b[0;32m    257\u001b[0m     \u001b[38;5;28;01melse\u001b[39;00m:\n\u001b[0;32m    258\u001b[0m         result \u001b[38;5;241m=\u001b[39m coro\u001b[38;5;241m.\u001b[39mthrow(exc)\n",
      "File \u001b[1;32m~\\anaconda3\\envs\\pytorch_gpu\\lib\\site-packages\\langchain_core\\runnables\\graph_mermaid.py:325\u001b[0m, in \u001b[0;36m_render_mermaid_using_pyppeteer\u001b[1;34m(mermaid_syntax, output_file_path, background_color, padding, device_scale_factor)\u001b[0m\n\u001b[0;32m    322\u001b[0m     msg \u001b[38;5;241m=\u001b[39m \u001b[38;5;124m\"\u001b[39m\u001b[38;5;124mInstall Pyppeteer to use the Pyppeteer method: `pip install pyppeteer`.\u001b[39m\u001b[38;5;124m\"\u001b[39m\n\u001b[0;32m    323\u001b[0m     \u001b[38;5;28;01mraise\u001b[39;00m \u001b[38;5;167;01mImportError\u001b[39;00m(msg) \u001b[38;5;28;01mfrom\u001b[39;00m \u001b[38;5;21;01me\u001b[39;00m\n\u001b[1;32m--> 325\u001b[0m browser \u001b[38;5;241m=\u001b[39m \u001b[38;5;28;01mawait\u001b[39;00m launch()\n\u001b[0;32m    326\u001b[0m page \u001b[38;5;241m=\u001b[39m \u001b[38;5;28;01mawait\u001b[39;00m browser\u001b[38;5;241m.\u001b[39mnewPage()\n\u001b[0;32m    328\u001b[0m \u001b[38;5;66;03m# Setup Mermaid JS\u001b[39;00m\n",
      "File \u001b[1;32m~\\anaconda3\\envs\\pytorch_gpu\\lib\\site-packages\\pyppeteer\\launcher.py:307\u001b[0m, in \u001b[0;36mlaunch\u001b[1;34m(options, **kwargs)\u001b[0m\n\u001b[0;32m    239\u001b[0m \u001b[38;5;28;01masync\u001b[39;00m \u001b[38;5;28;01mdef\u001b[39;00m \u001b[38;5;21mlaunch\u001b[39m(options: \u001b[38;5;28mdict\u001b[39m \u001b[38;5;241m=\u001b[39m \u001b[38;5;28;01mNone\u001b[39;00m, \u001b[38;5;241m*\u001b[39m\u001b[38;5;241m*\u001b[39mkwargs: Any) \u001b[38;5;241m-\u001b[39m\u001b[38;5;241m>\u001b[39m Browser:\n\u001b[0;32m    240\u001b[0m \u001b[38;5;250m    \u001b[39m\u001b[38;5;124;03m\"\"\"Start chrome process and return :class:`~pyppeteer.browser.Browser`.\u001b[39;00m\n\u001b[0;32m    241\u001b[0m \u001b[38;5;124;03m    This function is a shortcut to :meth:`Launcher(options, **kwargs).launch`.\u001b[39;00m\n\u001b[0;32m    242\u001b[0m \u001b[38;5;124;03m    Available options are:\u001b[39;00m\n\u001b[1;32m   (...)\u001b[0m\n\u001b[0;32m    305\u001b[0m \u001b[38;5;124;03m        option with extreme caution.\u001b[39;00m\n\u001b[0;32m    306\u001b[0m \u001b[38;5;124;03m    \"\"\"\u001b[39;00m\n\u001b[1;32m--> 307\u001b[0m     \u001b[38;5;28;01mreturn\u001b[39;00m \u001b[38;5;28;01mawait\u001b[39;00m Launcher(options, \u001b[38;5;241m*\u001b[39m\u001b[38;5;241m*\u001b[39mkwargs)\u001b[38;5;241m.\u001b[39mlaunch()\n",
      "File \u001b[1;32m~\\anaconda3\\envs\\pytorch_gpu\\lib\\site-packages\\pyppeteer\\launcher.py:120\u001b[0m, in \u001b[0;36mLauncher.__init__\u001b[1;34m(self, options, **kwargs)\u001b[0m\n\u001b[0;32m    118\u001b[0m \u001b[38;5;28;01mif\u001b[39;00m \u001b[38;5;129;01mnot\u001b[39;00m \u001b[38;5;28mself\u001b[39m\u001b[38;5;241m.\u001b[39mchromeExecutable:\n\u001b[0;32m    119\u001b[0m     \u001b[38;5;28;01mif\u001b[39;00m \u001b[38;5;129;01mnot\u001b[39;00m check_chromium():\n\u001b[1;32m--> 120\u001b[0m         \u001b[43mdownload_chromium\u001b[49m\u001b[43m(\u001b[49m\u001b[43m)\u001b[49m\n\u001b[0;32m    121\u001b[0m     \u001b[38;5;28mself\u001b[39m\u001b[38;5;241m.\u001b[39mchromeExecutable \u001b[38;5;241m=\u001b[39m \u001b[38;5;28mstr\u001b[39m(chromium_executable())\n\u001b[0;32m    123\u001b[0m \u001b[38;5;28mself\u001b[39m\u001b[38;5;241m.\u001b[39mcmd \u001b[38;5;241m=\u001b[39m [\u001b[38;5;28mself\u001b[39m\u001b[38;5;241m.\u001b[39mchromeExecutable] \u001b[38;5;241m+\u001b[39m \u001b[38;5;28mself\u001b[39m\u001b[38;5;241m.\u001b[39mchromeArguments\n",
      "File \u001b[1;32m~\\anaconda3\\envs\\pytorch_gpu\\lib\\site-packages\\pyppeteer\\chromium_downloader.py:138\u001b[0m, in \u001b[0;36mdownload_chromium\u001b[1;34m()\u001b[0m\n\u001b[0;32m    136\u001b[0m \u001b[38;5;28;01mdef\u001b[39;00m \u001b[38;5;21mdownload_chromium\u001b[39m() \u001b[38;5;241m-\u001b[39m\u001b[38;5;241m>\u001b[39m \u001b[38;5;28;01mNone\u001b[39;00m:\n\u001b[0;32m    137\u001b[0m \u001b[38;5;250m    \u001b[39m\u001b[38;5;124;03m\"\"\"Download and extract chromium.\"\"\"\u001b[39;00m\n\u001b[1;32m--> 138\u001b[0m     extract_zip(\u001b[43mdownload_zip\u001b[49m\u001b[43m(\u001b[49m\u001b[43mget_url\u001b[49m\u001b[43m(\u001b[49m\u001b[43m)\u001b[49m\u001b[43m)\u001b[49m, DOWNLOADS_FOLDER \u001b[38;5;241m/\u001b[39m REVISION)\n",
      "File \u001b[1;32m~\\anaconda3\\envs\\pytorch_gpu\\lib\\site-packages\\pyppeteer\\chromium_downloader.py:82\u001b[0m, in \u001b[0;36mdownload_zip\u001b[1;34m(url)\u001b[0m\n\u001b[0;32m     80\u001b[0m r \u001b[38;5;241m=\u001b[39m http\u001b[38;5;241m.\u001b[39mrequest(\u001b[38;5;124m'\u001b[39m\u001b[38;5;124mGET\u001b[39m\u001b[38;5;124m'\u001b[39m, url, preload_content\u001b[38;5;241m=\u001b[39m\u001b[38;5;28;01mFalse\u001b[39;00m)\n\u001b[0;32m     81\u001b[0m \u001b[38;5;28;01mif\u001b[39;00m r\u001b[38;5;241m.\u001b[39mstatus \u001b[38;5;241m>\u001b[39m\u001b[38;5;241m=\u001b[39m \u001b[38;5;241m400\u001b[39m:\n\u001b[1;32m---> 82\u001b[0m     \u001b[38;5;28;01mraise\u001b[39;00m \u001b[38;5;167;01mOSError\u001b[39;00m(\u001b[38;5;124mf\u001b[39m\u001b[38;5;124m'\u001b[39m\u001b[38;5;124mChromium downloadable not found at \u001b[39m\u001b[38;5;132;01m{\u001b[39;00murl\u001b[38;5;132;01m}\u001b[39;00m\u001b[38;5;124m: \u001b[39m\u001b[38;5;124m'\u001b[39m \u001b[38;5;124mf\u001b[39m\u001b[38;5;124m'\u001b[39m\u001b[38;5;124mReceived \u001b[39m\u001b[38;5;132;01m{\u001b[39;00mr\u001b[38;5;241m.\u001b[39mdata\u001b[38;5;241m.\u001b[39mdecode()\u001b[38;5;132;01m}\u001b[39;00m\u001b[38;5;124m.\u001b[39m\u001b[38;5;130;01m\\n\u001b[39;00m\u001b[38;5;124m'\u001b[39m)\n\u001b[0;32m     84\u001b[0m \u001b[38;5;66;03m# 10 * 1024\u001b[39;00m\n\u001b[0;32m     85\u001b[0m _data \u001b[38;5;241m=\u001b[39m BytesIO()\n",
      "\u001b[1;31mOSError\u001b[0m: Chromium downloadable not found at https://storage.googleapis.com/chromium-browser-snapshots/Win_x64/1181205/chrome-win.zip: Received <?xml version='1.0' encoding='UTF-8'?><Error><Code>NoSuchKey</Code><Message>The specified key does not exist.</Message><Details>No such object: chromium-browser-snapshots/Win_x64/1181205/chrome-win.zip</Details></Error>.\n"
     ]
    }
   ],
   "source": [
    "import nest_asyncio\n",
    "from IPython.display import Image, display\n",
    "from langchain_core.runnables.graph import CurveStyle, MermaidDrawMethod, NodeStyles\n",
    "\n",
    "nest_asyncio.apply()  # Required for Jupyter Notebook to run async functions\n",
    "\n",
    "display(\n",
    "    Image(\n",
    "        runnable.get_graph().draw_mermaid_png(\n",
    "            curve_style=CurveStyle.LINEAR,\n",
    "            node_colors=NodeStyles(first=\"#ffdfba\", last=\"#baffc9\", default=\"#fad7de\"),\n",
    "            wrap_label_n_words=9,\n",
    "            output_file_path=None,\n",
    "            draw_method=MermaidDrawMethod.PYPPETEER,\n",
    "            background_color=\"white\",\n",
    "            padding=10,\n",
    "        )\n",
    "    )\n",
    ")"
   ]
  },
  {
   "cell_type": "markdown",
   "metadata": {
    "id": "d6ONPHXy61JP"
   },
   "source": [
    "## Testing the Agent"
   ]
  },
  {
   "cell_type": "markdown",
   "metadata": {
    "id": "NNG22qaf61JQ"
   },
   "source": [
    "Our agent has now been constructed so we can test it. First, let's check for the best pizza in Rome:"
   ]
  },
  {
   "cell_type": "code",
   "execution_count": 32,
   "metadata": {
    "id": "p0CxgDWn61JQ",
    "outputId": "cd223e85-0196-43a9-8610-10a265d5bc10"
   },
   "outputs": [
    {
     "name": "stdout",
     "output_type": "stream",
     "text": [
      "run_oracle\n",
      "router\n",
      "run_tool | search.invoke(input={'query': 'best pizza in Rome'})\n",
      "The pizza chef who made this pizza won best pizza in the world at the World Pizza Awards in Rome\n",
      "3rd day in Rome and after struggling to find a great pizza I finally came across this beauty and it was probably the best pizza I have ever had.\n",
      "Best Pizza in Rome!\n",
      "run_oracle\n",
      "router\n",
      "run_tool | final_answer.invoke(input={'answer': 'If you are looking for a great pizza experience in Rome, consider trying Roman-style pizza or visiting Pizzarium or Da Remo for unique options.', 'phone_number': None, 'address': '[\"A\\\\u2019Rota pizzeria romanesca - via di torpignattara, 190\\\\n180g pizzeria romana - via Gennazzano, 32/34\\\\nL\\\\u2019elementare - via Benedetta, 23\\\\nPizzeria Clementina Via della Torre Clementina, 158 Fiumicino ( near the Airport)\", '})\n"
     ]
    }
   ],
   "source": [
    "out = runnable.invoke({\n",
    "    \"input\": \"where is the best pizza in rome?\",\n",
    "    \"chat_history\": [],\n",
    "})"
   ]
  },
  {
   "cell_type": "markdown",
   "metadata": {
    "id": "WxLRZq3U61JQ"
   },
   "source": [
    "We extract the answer:"
   ]
  },
  {
   "cell_type": "code",
   "execution_count": 33,
   "metadata": {
    "id": "BhBQtqjM61JQ",
    "outputId": "f8c8155e-6052-4844-e4cd-c21460d0ab88"
   },
   "outputs": [
    {
     "data": {
      "text/plain": [
       "{'answer': 'If you are looking for a great pizza experience in Rome, consider trying Roman-style pizza or visiting Pizzarium or Da Remo for unique options.',\n",
       " 'phone_number': None,\n",
       " 'address': '[\"A\\\\u2019Rota pizzeria romanesca - via di torpignattara, 190\\\\n180g pizzeria romana - via Gennazzano, 32/34\\\\nL\\\\u2019elementare - via Benedetta, 23\\\\nPizzeria Clementina Via della Torre Clementina, 158 Fiumicino ( near the Airport)\", '}"
      ]
     },
     "execution_count": 33,
     "metadata": {},
     "output_type": "execute_result"
    }
   ],
   "source": [
    "out[\"output\"]"
   ]
  },
  {
   "cell_type": "markdown",
   "metadata": {
    "id": "fGcCS7W061JQ"
   },
   "source": [
    "We are recommended [Seu Pizza Illuminati](https://maps.app.goo.gl/RMSdTUpH8D3oQETUA), a seemingly notorious pizzeria known for their less traditional and more experimental Neapolitan pizzas."
   ]
  },
  {
   "cell_type": "markdown",
   "metadata": {
    "id": "6Z9wRZ7W61JQ"
   },
   "source": [
    "---"
   ]
  }
 ],
 "metadata": {
  "accelerator": "GPU",
  "colab": {
   "gpuType": "T4",
   "provenance": []
  },
  "kernelspec": {
   "display_name": "pytorch_gpu",
   "language": "python",
   "name": "pytorch_gpu"
  },
  "language_info": {
   "codemirror_mode": {
    "name": "ipython",
    "version": 3
   },
   "file_extension": ".py",
   "mimetype": "text/x-python",
   "name": "python",
   "nbconvert_exporter": "python",
   "pygments_lexer": "ipython3",
   "version": "3.9.21"
  }
 },
 "nbformat": 4,
 "nbformat_minor": 4
}
