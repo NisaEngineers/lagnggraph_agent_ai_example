{
 "cells": [
  {
   "cell_type": "code",
   "execution_count": 2,
   "id": "b006dba3-4088-4723-9566-517b798553de",
   "metadata": {},
   "outputs": [
    {
     "name": "stdout",
     "output_type": "stream",
     "text": [
      "Collecting imap-client\n",
      "  Using cached imap_client-0.1.8-py3-none-any.whl.metadata (534 bytes)\n",
      "Using cached imap_client-0.1.8-py3-none-any.whl (5.9 kB)\n",
      "Installing collected packages: imap-client\n",
      "Successfully installed imap-client-0.1.8\n"
     ]
    }
   ],
   "source": [
    "!pip install imap-client"
   ]
  },
  {
   "cell_type": "code",
   "execution_count": 4,
   "id": "aebbe8ea-7d5a-48a6-a673-18450c12285e",
   "metadata": {},
   "outputs": [
    {
     "name": "stdout",
     "output_type": "stream",
     "text": [
      "Collecting imap-tools\n",
      "  Using cached imap_tools-1.10.0-py3-none-any.whl.metadata (22 kB)\n",
      "Using cached imap_tools-1.10.0-py3-none-any.whl (34 kB)\n",
      "Installing collected packages: imap-tools\n",
      "Successfully installed imap-tools-1.10.0\n"
     ]
    }
   ],
   "source": [
    "!pip install imap-tools"
   ]
  },
  {
   "cell_type": "code",
   "execution_count": null,
   "id": "b1e2bfe5-605f-476f-a5af-a2c1c6c8a265",
   "metadata": {},
   "outputs": [
    {
     "name": "stdout",
     "output_type": "stream",
     "text": [
      "Type an instruction or \"quit\".\n",
      "\n"
     ]
    },
    {
     "name": "stdin",
     "output_type": "stream",
     "text": [
      ">  Hi\n"
     ]
    }
   ],
   "source": [
    "import os\n",
    "import json\n",
    "from typing import TypedDict\n",
    "\n",
    "from dotenv import load_dotenv\n",
    "from imap_tools import MailBox, AND\n",
    "\n",
    "from langchain.chat_models import init_chat_model\n",
    "from langchain_core.tools import tool\n",
    "\n",
    "from langgraph.prebuilt import ToolNode\n",
    "from langgraph.graph import StateGraph, START, END\n",
    "\n",
    "load_dotenv()\n",
    "\n",
    "IMAP_HOST = os.getenv('IMAP_HOST')\n",
    "IMAP_USER = os.getenv('IMAP_USER')\n",
    "IMAP_PASSWORD = os.getenv('IMAP_PASSWORD')\n",
    "IMAP_FOLDER = 'INBOX'\n",
    "\n",
    "CHAT_MODEL = 'llama3.2'\n",
    "\n",
    "\n",
    "class ChatState(TypedDict):\n",
    "    messages: list\n",
    "\n",
    "\n",
    "def connect():\n",
    "    mail_box = MailBox(IMAP_HOST)\n",
    "    mail_box.login(IMAP_USER, IMAP_PASSWORD, initial_folder=IMAP_FOLDER)\n",
    "\n",
    "    return mail_box\n",
    "\n",
    "\n",
    "@tool\n",
    "def list_unread_emails():\n",
    "    \"\"\"Return a bullet list of every UNREAD message's UID, subject, date and sender\"\"\"\n",
    "\n",
    "    print('List Unread Emails Tool Called')\n",
    "\n",
    "    with connect() as mb:\n",
    "        unread = list(mb.fetch(criteria = AND(seen=False), headers_only=True, mark_seen=False))\n",
    "\n",
    "    if not unread:\n",
    "        return 'You have no unread messages.'\n",
    "\n",
    "    response = json.dumps([\n",
    "        {\n",
    "            'uid': mail.uid,\n",
    "            'date': mail.date.astimezone().strftime('%Y-%m-%d %H:%M'),\n",
    "            'subject': mail.subject,\n",
    "            'sender': mail.from_\n",
    "        } for mail in unread\n",
    "    ])\n",
    "\n",
    "    return response\n",
    "\n",
    "\n",
    "@tool\n",
    "def summarize_email(uid):\n",
    "    \"\"\"Summarize a single e-mail given it's IMAP UID. Return a short summary of the e-mails content / body in plain text.\"\"\"\n",
    "\n",
    "    print('Summarize E-Mail Tool Called on', uid)\n",
    "\n",
    "    with connect() as mb:\n",
    "        mail = next(mb.fetch(AND(uid=uid), mark_seen=False), None)\n",
    "\n",
    "        if not mail:\n",
    "            return f'Could not summarize e-mail with UID {uid}.'\n",
    "\n",
    "        prompt = (\n",
    "            \"Summarize this e-mail concisely:\\n\\n\"\n",
    "            f\"Subject: {mail.subject}\\n\"\n",
    "            f\"Sender: {mail.from_}\\n\"\n",
    "            f\"Date: {mail.date}\\n\\n\"\n",
    "            f\"{mail.text or mail.html}\"\n",
    "        )\n",
    "\n",
    "        return raw_llm.invoke(prompt).content\n",
    "\n",
    "\n",
    "\n",
    "llm = init_chat_model(CHAT_MODEL, model_provider='ollama')\n",
    "llm = llm.bind_tools([list_unread_emails, summarize_email])\n",
    "\n",
    "raw_llm = init_chat_model(CHAT_MODEL, model_provider='ollama')\n",
    "\n",
    "\n",
    "def llm_node(state):\n",
    "    response = llm.invoke(state['messages'])\n",
    "    return {'messages': state['messages'] + [response]}\n",
    "\n",
    "\n",
    "def router(state):\n",
    "    last_message = state['messages'][-1]\n",
    "    return 'tools' if getattr(last_message, 'tool_calls', None) else 'end'\n",
    "\n",
    "\n",
    "\n",
    "tool_node = ToolNode([list_unread_emails, summarize_email])\n",
    "\n",
    "\n",
    "def tools_node(state):\n",
    "    result = tool_node.invoke(state)\n",
    "\n",
    "    return {\n",
    "        'messages': state['messages'] + result['messages']\n",
    "    }\n",
    "\n",
    "\n",
    "\n",
    "builder = StateGraph(ChatState)\n",
    "builder.add_node('llm', llm_node)\n",
    "builder.add_node('tools', tools_node)\n",
    "builder.add_edge(START, 'llm')\n",
    "builder.add_edge('tools', 'llm')\n",
    "builder.add_conditional_edges('llm', router, {'tools': 'tools', 'end': END})\n",
    "\n",
    "graph = builder.compile()\n",
    "\n",
    "\n",
    "if __name__ == '__main__':\n",
    "    state = {'messages': []}\n",
    "\n",
    "    print('Type an instruction or \"quit\".\\n')\n",
    "\n",
    "    while True:\n",
    "        user_message = input('> ')\n",
    "\n",
    "        if user_message.lower() == 'quit':\n",
    "            break\n",
    "\n",
    "        state['messages'].append({'role': 'user', 'content': user_message})\n",
    "\n",
    "        state = graph.invoke(state)\n",
    "\n",
    "        print(state['messages'][-1].content, '\\n')\n",
    "\n",
    "\n"
   ]
  },
  {
   "cell_type": "code",
   "execution_count": null,
   "id": "147870f2-778e-42f9-b47d-965b342a0533",
   "metadata": {},
   "outputs": [],
   "source": []
  }
 ],
 "metadata": {
  "kernelspec": {
   "display_name": "Python 3 (ipykernel)",
   "language": "python",
   "name": "python3"
  },
  "language_info": {
   "codemirror_mode": {
    "name": "ipython",
    "version": 3
   },
   "file_extension": ".py",
   "mimetype": "text/x-python",
   "name": "python",
   "nbconvert_exporter": "python",
   "pygments_lexer": "ipython3",
   "version": "3.9.21"
  }
 },
 "nbformat": 4,
 "nbformat_minor": 5
}
